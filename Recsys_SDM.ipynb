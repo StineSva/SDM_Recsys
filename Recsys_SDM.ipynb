{
 "cells": [
  {
   "cell_type": "markdown",
   "metadata": {},
   "source": [
    "# <span style='color:#F76241'>|</span> Recommender Systems </b>\n",
    "*System Development for Marketing*\n",
    "*by Stine Svaerke*\n",
    "\n",
    "Recommender systems have seen an immense growth in popularity in recent years as the rapid expansion of the internet continues (Lü et al., 2012). Through the creation of meaningful recommendations to users, organisations have unlocked new opportunities and challenges. Recommender systems apply several different sources of information to provide users with recommendations. These sources of information include demographic information, preferences, and social behaviour (Núnez-Valdéz et al., 2012). Furthermore, recommendation systems are built on different techniques such as Collaborative Filtering, Content-based, and Hybrid Recommendation (Kaur & Bathla, 2019). The most widely applied technique of Collaborative Filtering, provides recommendations based on past ratings of an item by similar users. Specifically, collaborative filtering collects information regarding users' past behaviour and opinions, to correlate with a new user and determine similarity. Collaborative filtering can be categorised into three categorise: Model-Based, Memory-Based, and Hybrid-Based. <br>\n",
    "\n",
    "The aim of this notebook is to investigate the application of collaborative filtering to build a recommender system. In order to gain business applications from the investigation, the following business question has been devised. <br>\n",
    "\n",
    "**<span style='color:#F76241'>Main Research question:</span>** </br>\n",
    " *Which method of collaborative filtering should Jester use to best recommend jokes to users? </br>*\n",
    "\n",
    "\n",
    "\n",
    "</br>**<span style='color:#F76241'>Sub-Research questions:</span>** </br>\n",
    "1. Which evaluation metrics would be most appropriate to evaluate the recommender systems?\n",
    "2. How does KNN and SVD recommender systems compare in terms of their prediction accuracy?\n",
    "3. How do KNN and SVD recommender systems differ in terms of their generalisability?\n",
    "\n",
    "Sub-questions one and two will be investigated in section 1 and 2 of this notebook. Additionally, sub-question three will be investigated in section 3, in which the resulting KNN and SVD recommender systems from sections 1 and 2 will be applied to a different dataset (Netflix) to test for generalisability.\n"
   ]
  },
  {
   "cell_type": "code",
   "execution_count": 58,
   "metadata": {},
   "outputs": [],
   "source": [
    "#Importing the neccessary libraries \n",
    "import pandas as pd\n",
    "import numpy as np\n",
    "import matplotlib.pyplot as plt\n",
    "import seaborn as sns\n",
    "import os\n",
    "\n",
    "#For K-Nearest Neighbour Recommender System\n",
    "from scipy.sparse import csr_matrix\n",
    "from sklearn.neighbors import NearestNeighbors\n",
    "from sklearn.model_selection import GridSearchCV\n",
    "from sklearn.neighbors import KNeighborsRegressor\n",
    "from sklearn.metrics import mean_squared_error\n",
    "from sklearn.model_selection import train_test_split\n",
    "\n",
    "#For Singular Decompostion Value Recommender System\n",
    "import sklearn\n",
    "from scipy.sparse.linalg import svds"
   ]
  },
  {
   "cell_type": "code",
   "execution_count": 59,
   "metadata": {},
   "outputs": [],
   "source": [
    "#Importing the Jester Dataset. Only the jester_ratings file is imported as the jester_items does not have additional information that is important.  \n",
    "df_Jester = pd.read_csv('/Users/stinesvaerke/Desktop/jester_ratings.csv', encoding='ISO-8859-1', delimiter=',', usecols=['userId', 'jokeId', 'rating'])"
   ]
  },
  {
   "cell_type": "markdown",
   "metadata": {},
   "source": [
    "### <b>1<span style='color:#F76241'>|</span> Exploratory Data Analysis of the Jester Dataset<br>\n",
    "\n",
    "To gain an understanding of the dataset and the variables within the data set, an exploratory data analysis will be conducted. The exploratory data analysis of the dataset is limited as it is mainly to understand the variables which the dataset contains and preprocessing of the data. "
   ]
  },
  {
   "cell_type": "code",
   "execution_count": 60,
   "metadata": {},
   "outputs": [
    {
     "data": {
      "text/html": [
       "<div>\n",
       "<style scoped>\n",
       "    .dataframe tbody tr th:only-of-type {\n",
       "        vertical-align: middle;\n",
       "    }\n",
       "\n",
       "    .dataframe tbody tr th {\n",
       "        vertical-align: top;\n",
       "    }\n",
       "\n",
       "    .dataframe thead th {\n",
       "        text-align: right;\n",
       "    }\n",
       "</style>\n",
       "<table border=\"1\" class=\"dataframe\">\n",
       "  <thead>\n",
       "    <tr style=\"text-align: right;\">\n",
       "      <th></th>\n",
       "      <th>userId</th>\n",
       "      <th>jokeId</th>\n",
       "      <th>rating</th>\n",
       "    </tr>\n",
       "  </thead>\n",
       "  <tbody>\n",
       "    <tr>\n",
       "      <th>0</th>\n",
       "      <td>1</td>\n",
       "      <td>5</td>\n",
       "      <td>0.219</td>\n",
       "    </tr>\n",
       "    <tr>\n",
       "      <th>1</th>\n",
       "      <td>1</td>\n",
       "      <td>7</td>\n",
       "      <td>-9.281</td>\n",
       "    </tr>\n",
       "    <tr>\n",
       "      <th>2</th>\n",
       "      <td>1</td>\n",
       "      <td>8</td>\n",
       "      <td>-9.281</td>\n",
       "    </tr>\n",
       "    <tr>\n",
       "      <th>3</th>\n",
       "      <td>1</td>\n",
       "      <td>13</td>\n",
       "      <td>-6.781</td>\n",
       "    </tr>\n",
       "    <tr>\n",
       "      <th>4</th>\n",
       "      <td>1</td>\n",
       "      <td>15</td>\n",
       "      <td>0.875</td>\n",
       "    </tr>\n",
       "  </tbody>\n",
       "</table>\n",
       "</div>"
      ],
      "text/plain": [
       "   userId  jokeId  rating\n",
       "0       1       5   0.219\n",
       "1       1       7  -9.281\n",
       "2       1       8  -9.281\n",
       "3       1      13  -6.781\n",
       "4       1      15   0.875"
      ]
     },
     "execution_count": 60,
     "metadata": {},
     "output_type": "execute_result"
    }
   ],
   "source": [
    "#Printing the headers of the dataset\n",
    "df_Jester.head()"
   ]
  },
  {
   "cell_type": "code",
   "execution_count": 61,
   "metadata": {},
   "outputs": [
    {
     "data": {
      "text/plain": [
       "userId      int64\n",
       "jokeId      int64\n",
       "rating    float64\n",
       "dtype: object"
      ]
     },
     "execution_count": 61,
     "metadata": {},
     "output_type": "execute_result"
    }
   ],
   "source": [
    "#Checking the data types \n",
    "df_Jester.dtypes"
   ]
  },
  {
   "cell_type": "code",
   "execution_count": 62,
   "metadata": {},
   "outputs": [
    {
     "name": "stdout",
     "output_type": "stream",
     "text": [
      "Data shape:  (1761439, 3)\n"
     ]
    }
   ],
   "source": [
    "# Checking the dimensions of the data\n",
    "print(\"Data shape: \", df_Jester.shape)"
   ]
  },
  {
   "cell_type": "code",
   "execution_count": 63,
   "metadata": {},
   "outputs": [
    {
     "data": {
      "text/html": [
       "<div>\n",
       "<style scoped>\n",
       "    .dataframe tbody tr th:only-of-type {\n",
       "        vertical-align: middle;\n",
       "    }\n",
       "\n",
       "    .dataframe tbody tr th {\n",
       "        vertical-align: top;\n",
       "    }\n",
       "\n",
       "    .dataframe thead th {\n",
       "        text-align: right;\n",
       "    }\n",
       "</style>\n",
       "<table border=\"1\" class=\"dataframe\">\n",
       "  <thead>\n",
       "    <tr style=\"text-align: right;\">\n",
       "      <th></th>\n",
       "      <th>userId</th>\n",
       "      <th>jokeId</th>\n",
       "      <th>rating</th>\n",
       "    </tr>\n",
       "  </thead>\n",
       "  <tbody>\n",
       "    <tr>\n",
       "      <th>count</th>\n",
       "      <td>1.761439e+06</td>\n",
       "      <td>1.761439e+06</td>\n",
       "      <td>1.761439e+06</td>\n",
       "    </tr>\n",
       "    <tr>\n",
       "      <th>mean</th>\n",
       "      <td>3.272322e+04</td>\n",
       "      <td>7.071133e+01</td>\n",
       "      <td>1.618602e+00</td>\n",
       "    </tr>\n",
       "    <tr>\n",
       "      <th>std</th>\n",
       "      <td>1.828011e+04</td>\n",
       "      <td>4.600790e+01</td>\n",
       "      <td>5.302608e+00</td>\n",
       "    </tr>\n",
       "    <tr>\n",
       "      <th>min</th>\n",
       "      <td>1.000000e+00</td>\n",
       "      <td>5.000000e+00</td>\n",
       "      <td>-1.000000e+01</td>\n",
       "    </tr>\n",
       "    <tr>\n",
       "      <th>25%</th>\n",
       "      <td>1.720200e+04</td>\n",
       "      <td>2.100000e+01</td>\n",
       "      <td>-2.031000e+00</td>\n",
       "    </tr>\n",
       "    <tr>\n",
       "      <th>50%</th>\n",
       "      <td>3.480800e+04</td>\n",
       "      <td>6.900000e+01</td>\n",
       "      <td>2.219000e+00</td>\n",
       "    </tr>\n",
       "    <tr>\n",
       "      <th>75%</th>\n",
       "      <td>4.730600e+04</td>\n",
       "      <td>1.120000e+02</td>\n",
       "      <td>5.719000e+00</td>\n",
       "    </tr>\n",
       "    <tr>\n",
       "      <th>max</th>\n",
       "      <td>6.397800e+04</td>\n",
       "      <td>1.500000e+02</td>\n",
       "      <td>1.000000e+01</td>\n",
       "    </tr>\n",
       "  </tbody>\n",
       "</table>\n",
       "</div>"
      ],
      "text/plain": [
       "             userId        jokeId        rating\n",
       "count  1.761439e+06  1.761439e+06  1.761439e+06\n",
       "mean   3.272322e+04  7.071133e+01  1.618602e+00\n",
       "std    1.828011e+04  4.600790e+01  5.302608e+00\n",
       "min    1.000000e+00  5.000000e+00 -1.000000e+01\n",
       "25%    1.720200e+04  2.100000e+01 -2.031000e+00\n",
       "50%    3.480800e+04  6.900000e+01  2.219000e+00\n",
       "75%    4.730600e+04  1.120000e+02  5.719000e+00\n",
       "max    6.397800e+04  1.500000e+02  1.000000e+01"
      ]
     },
     "execution_count": 63,
     "metadata": {},
     "output_type": "execute_result"
    }
   ],
   "source": [
    "df_Jester.describe()"
   ]
  },
  {
   "cell_type": "code",
   "execution_count": 64,
   "metadata": {},
   "outputs": [
    {
     "data": {
      "text/plain": [
       "<function matplotlib.pyplot.show(close=None, block=None)>"
      ]
     },
     "execution_count": 64,
     "metadata": {},
     "output_type": "execute_result"
    },
    {
     "data": {
      "image/png": "[encoded data removed]",
      "text/plain": [
       "<Figure size 640x480 with 1 Axes>"
      ]
     },
     "metadata": {},
     "output_type": "display_data"
    }
   ],
   "source": [
    "#Visualising the distribution of ratings\n",
    "plt.hist(data=df_Jester, x=\"rating\")\n",
    "plt.title(\"Histogram of Ratings\")\n",
    "plt.xlabel(\"Rating\")\n",
    "plt.ylabel(\"Frequency\")\n",
    "plt.show"
   ]
  },
  {
   "cell_type": "markdown",
   "metadata": {},
   "source": [
    "The historgram plot of the ratings, show that they are slightly left-skewed. This means that the ratings are mainly concentrated on the right-side, in the positive ratings. "
   ]
  },
  {
   "cell_type": "markdown",
   "metadata": {},
   "source": [
    "### <b>2<span style='color:#F76241'>|</span> K-Nearest Neighbour Modelling \n",
    "K-Nearest Neighbour (KNN) is an non-parametric alogrithm that identifies users with similar preferences in the past to recommend similar items in the future. The alogirthm finds the nearest K-neighbours in a space to recommend similar items to a user. When applying the KNN algorithm for building a recommender system, there are several implicit assumptions that must be considered first: <br>\n",
    "\n",
    "1. Neighbourhood: KNN assumes that similar users or items have similar ratings or preferences. \n",
    "2. Sparcity: Insufficient information in the form of sparse datasets may affect KNN to accurately estimate the preferences of users.\n",
    "3. Choice of K: Selecting the number of nearest neighbours can affect the accuracy and coverage of the recommendations.\n",
    "4. Distance: Choice of distance metric can impact the performance of the algorithm, therefore different distance metrics may be appropriate for different types of data. \n",
    "5. Curse of dimensionality: High numberof features or dimensions may lead the algorithm to struggle to find meaningful neighbors. "
   ]
  },
  {
   "cell_type": "code",
   "execution_count": 65,
   "metadata": {},
   "outputs": [],
   "source": [
    "# pivot ratings into joke features, in which each row represents a user and each column represents a joke. \n",
    "df_joke_matrix = df_Jester.pivot(\n",
    "index='userId',\n",
    "columns='jokeId',\n",
    "values='rating'\n",
    ").fillna(0)"
   ]
  },
  {
   "cell_type": "markdown",
   "metadata": {},
   "source": [
    "<span style='color:#F76241'>|</span>The pivoted Jester matrix is very large and empty, as users have only mainly only rated a small subset of the total jokes. Therefore, the matrix should be converted to a sparse matrix representation for memory efficiency and computational costs reasons. A sparse matrix only store the non-zero values and their indices. In order to do this, the csr_matrix function will be applied. "
   ]
  },
  {
   "cell_type": "code",
   "execution_count": 66,
   "metadata": {},
   "outputs": [],
   "source": [
    "#converting dense matrix to scipy sparse matrix\n",
    "ratingmatrix = csr_matrix(df_joke_matrix.values)"
   ]
  },
  {
   "cell_type": "code",
   "execution_count": 67,
   "metadata": {},
   "outputs": [],
   "source": [
    "#Splitting the sparse matrix into training, validation, test sets. \n",
    "#This will allow for the KNN model to be train, validated, and tested with different subsets of the data. \n",
    "train_matrix, test_matrix = train_test_split(ratingmatrix, test_size=0.2)\n",
    "test_matrix, validation_matrix = train_test_split(test_matrix, test_size=0.5)"
   ]
  },
  {
   "cell_type": "code",
   "execution_count": 68,
   "metadata": {},
   "outputs": [
    {
     "data": {
      "text/html": [
       "<style>#sk-container-id-4 {color: black;background-color: white;}#sk-container-id-4 pre{padding: 0;}#sk-container-id-4 div.sk-toggleable {background-color: white;}#sk-container-id-4 label.sk-toggleable__label {cursor: pointer;display: block;width: 100%;margin-bottom: 0;padding: 0.3em;box-sizing: border-box;text-align: center;}#sk-container-id-4 label.sk-toggleable__label-arrow:before {content: \"▸\";float: left;margin-right: 0.25em;color: #696969;}#sk-container-id-4 label.sk-toggleable__label-arrow:hover:before {color: black;}#sk-container-id-4 div.sk-estimator:hover label.sk-toggleable__label-arrow:before {color: black;}#sk-container-id-4 div.sk-toggleable__content {max-height: 0;max-width: 0;overflow: hidden;text-align: left;background-color: #f0f8ff;}#sk-container-id-4 div.sk-toggleable__content pre {margin: 0.2em;color: black;border-radius: 0.25em;background-color: #f0f8ff;}#sk-container-id-4 input.sk-toggleable__control:checked~div.sk-toggleable__content {max-height: 200px;max-width: 100%;overflow: auto;}#sk-container-id-4 input.sk-toggleable__control:checked~label.sk-toggleable__label-arrow:before {content: \"▾\";}#sk-container-id-4 div.sk-estimator input.sk-toggleable__control:checked~label.sk-toggleable__label {background-color: #d4ebff;}#sk-container-id-4 div.sk-label input.sk-toggleable__control:checked~label.sk-toggleable__label {background-color: #d4ebff;}#sk-container-id-4 input.sk-hidden--visually {border: 0;clip: rect(1px 1px 1px 1px);clip: rect(1px, 1px, 1px, 1px);height: 1px;margin: -1px;overflow: hidden;padding: 0;position: absolute;width: 1px;}#sk-container-id-4 div.sk-estimator {font-family: monospace;background-color: #f0f8ff;border: 1px dotted black;border-radius: 0.25em;box-sizing: border-box;margin-bottom: 0.5em;}#sk-container-id-4 div.sk-estimator:hover {background-color: #d4ebff;}#sk-container-id-4 div.sk-parallel-item::after {content: \"\";width: 100%;border-bottom: 1px solid gray;flex-grow: 1;}#sk-container-id-4 div.sk-label:hover label.sk-toggleable__label {background-color: #d4ebff;}#sk-container-id-4 div.sk-serial::before {content: \"\";position: absolute;border-left: 1px solid gray;box-sizing: border-box;top: 0;bottom: 0;left: 50%;z-index: 0;}#sk-container-id-4 div.sk-serial {display: flex;flex-direction: column;align-items: center;background-color: white;padding-right: 0.2em;padding-left: 0.2em;position: relative;}#sk-container-id-4 div.sk-item {position: relative;z-index: 1;}#sk-container-id-4 div.sk-parallel {display: flex;align-items: stretch;justify-content: center;background-color: white;position: relative;}#sk-container-id-4 div.sk-item::before, #sk-container-id-4 div.sk-parallel-item::before {content: \"\";position: absolute;border-left: 1px solid gray;box-sizing: border-box;top: 0;bottom: 0;left: 50%;z-index: -1;}#sk-container-id-4 div.sk-parallel-item {display: flex;flex-direction: column;z-index: 1;position: relative;background-color: white;}#sk-container-id-4 div.sk-parallel-item:first-child::after {align-self: flex-end;width: 50%;}#sk-container-id-4 div.sk-parallel-item:last-child::after {align-self: flex-start;width: 50%;}#sk-container-id-4 div.sk-parallel-item:only-child::after {width: 0;}#sk-container-id-4 div.sk-dashed-wrapped {border: 1px dashed gray;margin: 0 0.4em 0.5em 0.4em;box-sizing: border-box;padding-bottom: 0.4em;background-color: white;}#sk-container-id-4 div.sk-label label {font-family: monospace;font-weight: bold;display: inline-block;line-height: 1.2em;}#sk-container-id-4 div.sk-label-container {text-align: center;}#sk-container-id-4 div.sk-container {/* jupyter's `normalize.less` sets `[hidden] { display: none; }` but bootstrap.min.css set `[hidden] { display: none !important; }` so we also need the `!important` here to be able to override the default hidden behavior on the sphinx rendered scikit-learn.org. See: https://github.com/scikit-learn/scikit-learn/issues/21755 */display: inline-block !important;position: relative;}#sk-container-id-4 div.sk-text-repr-fallback {display: none;}</style><div id=\"sk-container-id-4\" class=\"sk-top-container\"><div class=\"sk-text-repr-fallback\"><pre>NearestNeighbors(algorithm=&#x27;brute&#x27;, metric=&#x27;cosine&#x27;)</pre><b>In a Jupyter environment, please rerun this cell to show the HTML representation or trust the notebook. <br />On GitHub, the HTML representation is unable to render, please try loading this page with nbviewer.org.</b></div><div class=\"sk-container\" hidden><div class=\"sk-item\"><div class=\"sk-estimator sk-toggleable\"><input class=\"sk-toggleable__control sk-hidden--visually\" id=\"sk-estimator-id-4\" type=\"checkbox\" checked><label for=\"sk-estimator-id-4\" class=\"sk-toggleable__label sk-toggleable__label-arrow\">NearestNeighbors</label><div class=\"sk-toggleable__content\"><pre>NearestNeighbors(algorithm=&#x27;brute&#x27;, metric=&#x27;cosine&#x27;)</pre></div></div></div></div></div>"
      ],
      "text/plain": [
       "NearestNeighbors(algorithm='brute', metric='cosine')"
      ]
     },
     "execution_count": 68,
     "metadata": {},
     "output_type": "execute_result"
    }
   ],
   "source": [
    "#Defining the KNN model\n",
    "knn_model = NearestNeighbors(metric = 'cosine', algorithm = 'brute')\n",
    "knn_model.fit(ratingmatrix)"
   ]
  },
  {
   "cell_type": "markdown",
   "metadata": {},
   "source": [
    "### 2.1<span style='color:#F76241'>|</span> Hyperparameter Tuning <br>\n",
    "Hyperparameter tuning is the process of finding the optimal parameters for the model. Hyperparameters are parameters of the model that are set before training and cannot be learned from the data. There are several hyperparameters that must be tuned for a KNN recommender system including distance metric, K, and similarlity metric. Tuning these hyperparameters will result in the best combination of hyperparameters that optimise the performance of the recommender system. \n",
    "\n",
    "Hyperparameter tuning will address the implicit assumptions mentioned in the introducution section to the KNN modeling. For example, the choice of K will have an affect on the coverage and speed of the recommendations, whereas the distance metric can impact the accuracy of the recommendations. Furthermore, the hyperparameters are important for the generalisability of the system. Tuning the hyperparameters can ensure that the system can be generalised well to new datasets. \n",
    "\n",
    "Several hyperparameters are considered when tuning the KNN recommender system. Firstly, the distance metric is used to calculate the distance between items or users. Different distance metrics can be applied depending on the type of data or features. Secondly, The similiarity metric refers to the similarity between items or users. Lastly, the number of nearest neighbours (K) refers to the number of nearest neighbours that the system considers when making a recommendation. Overall, these hyperparameters directly influence the accuracy, coverage, and speed of the recommendations. \n",
    "\n",
    "In order to find the optimal combination of hyperparameters, several methods can be used. The most common method is the grid search or randomised search, in which a range of hyperparameters are specified and the performance of the model is evaluated for each combination of hyperparameters. However, for tuning the current system, the hyperparameter tuning is coded by hand with elements of the gridsearch function included. "
   ]
  },
  {
   "cell_type": "code",
   "execution_count": 69,
   "metadata": {},
   "outputs": [],
   "source": [
    "#Defining a function to find the optimal hyperparameters for the model\n",
    "def build_knn (data=validation_matrix, nr_recommendations=5, metric='manhattan', n_neighbors=15):\n",
    "    model_knn = NearestNeighbors(metric=metric, algorithm='brute', n_neighbors=n_neighbors, n_jobs=-1)\n",
    "    model_knn.fit(train_matrix)\n",
    "\n",
    "#predicted ratings\n",
    "    test_predicted_ratings = np.zeros_like(data.toarray())\n",
    "    for user_id in range(data.shape[0]):\n",
    "        distances, indices = model_knn.kneighbors(data[user_id], n_neighbors=nr_recommendations)\n",
    "        user_ratings = train_matrix[indices.flatten(), :].toarray()\n",
    "        weights = 1 / (distances.flatten() + 1e-6)\n",
    "        test_predicted_ratings[user_id] = np.sum(user_ratings * weights.reshape(-1, 1), axis=0) / np.sum(weights)\n",
    "\n",
    "#Calculating the RMSE for the hyperparameters to be able to determine which hyperparameters are the best. \n",
    "    test_actual_ratings = data.toarray()[test_predicted_ratings > 0]\n",
    "    test_predicted_ratings = np.array(test_predicted_ratings)[test_predicted_ratings > 0]\n",
    "    rmse = np.sqrt(mean_squared_error(test_actual_ratings, test_predicted_ratings))\n",
    "    return rmse"
   ]
  },
  {
   "cell_type": "markdown",
   "metadata": {},
   "source": [
    "<span style='color:#F76241'>|</span>The defined method to find the optimal hyperparameters for the KNN recommender system as seen above is based on the following logic. The function focuses on the four arguments: the data (validation subset), the number of recommendations to make, the distance metric to use, and the number of nearest neighbours (K) to consider.\n",
    "\n",
    "1. #Defining a function to find the optimal hyperparameters for the model:<br>\n",
    "The function createst a KNN model using the specified distance metric and number of neighbours. The model is then fitted on the training data subset. \n",
    "\n",
    " 2. #predicted ratings:<br>\n",
    " the function predicts the ratings for the validation data using the KNN model. This is done for each user in the validation subset, where the function finds the K nearest neighbours from the training data and uses their ratings to make recommendations for that user. The predicted ratings are calculated using a weighted average of the ratings of the nearest neighbours, where the weights are inversley proportional to the distance between theneighbours and the user being recommended for. \n",
    "\n",
    "3. #Calculating the RMSE for the hyperparameters to be able to determine which hyperparameters are the best.<br> \n",
    "The function calculates the root mean squared error (RMSE) between the actual ratings in the validation subset and the predicted ratings. The RMSE is an evaluation metric which measures the accuracy of the recommendations, whereby a lower value indicates better performance. \n",
    "\n",
    "Finally, the defined method allows for comparison of the performance of different hyperparameters through the returned RMSE. From this, the optimal combination can be choosen for the KNN recommender system. "
   ]
  },
  {
   "cell_type": "code",
   "execution_count": 70,
   "metadata": {},
   "outputs": [
    {
     "ename": "KeyboardInterrupt",
     "evalue": "",
     "output_type": "error",
     "traceback": [
      "\u001b[0;31m---------------------------------------------------------------------------\u001b[0m",
      "\u001b[0;31mKeyboardInterrupt\u001b[0m                         Traceback (most recent call last)",
      "\u001b[1;32m/Users/stinesvaerke/Documents/GitHub/SDM_Recsys/Recsys_SDM.ipynb Cell 20\u001b[0m in \u001b[0;36m<cell line: 10>\u001b[0;34m()\u001b[0m\n\u001b[1;32m     <a href='vscode-notebook-cell:/Users/stinesvaerke/Documents/GitHub/SDM_Recsys/Recsys_SDM.ipynb#X25sZmlsZQ%3D%3D?line=10'>11</a>\u001b[0m \u001b[39mfor\u001b[39;00m par \u001b[39min\u001b[39;00m metric: \n\u001b[1;32m     <a href='vscode-notebook-cell:/Users/stinesvaerke/Documents/GitHub/SDM_Recsys/Recsys_SDM.ipynb#X25sZmlsZQ%3D%3D?line=11'>12</a>\u001b[0m     \u001b[39mfor\u001b[39;00m tal \u001b[39min\u001b[39;00m n_neigbours:\n\u001b[0;32m---> <a href='vscode-notebook-cell:/Users/stinesvaerke/Documents/GitHub/SDM_Recsys/Recsys_SDM.ipynb#X25sZmlsZQ%3D%3D?line=12'>13</a>\u001b[0m         parameters\u001b[39m.\u001b[39mappend([build_knn(data \u001b[39m=\u001b[39;49m validation_matrix, metric\u001b[39m=\u001b[39;49mpar, nr_recommendations\u001b[39m=\u001b[39;49mnumber), par, number, tal])\n",
      "\u001b[1;32m/Users/stinesvaerke/Documents/GitHub/SDM_Recsys/Recsys_SDM.ipynb Cell 20\u001b[0m in \u001b[0;36mbuild_knn\u001b[0;34m(data, nr_recommendations, metric, n_neighbors)\u001b[0m\n\u001b[1;32m      <a href='vscode-notebook-cell:/Users/stinesvaerke/Documents/GitHub/SDM_Recsys/Recsys_SDM.ipynb#X25sZmlsZQ%3D%3D?line=6'>7</a>\u001b[0m test_predicted_ratings \u001b[39m=\u001b[39m np\u001b[39m.\u001b[39mzeros_like(data\u001b[39m.\u001b[39mtoarray())\n\u001b[1;32m      <a href='vscode-notebook-cell:/Users/stinesvaerke/Documents/GitHub/SDM_Recsys/Recsys_SDM.ipynb#X25sZmlsZQ%3D%3D?line=7'>8</a>\u001b[0m \u001b[39mfor\u001b[39;00m user_id \u001b[39min\u001b[39;00m \u001b[39mrange\u001b[39m(data\u001b[39m.\u001b[39mshape[\u001b[39m0\u001b[39m]):\n\u001b[0;32m----> <a href='vscode-notebook-cell:/Users/stinesvaerke/Documents/GitHub/SDM_Recsys/Recsys_SDM.ipynb#X25sZmlsZQ%3D%3D?line=8'>9</a>\u001b[0m     distances, indices \u001b[39m=\u001b[39m model_knn\u001b[39m.\u001b[39;49mkneighbors(data[user_id], n_neighbors\u001b[39m=\u001b[39;49mnr_recommendations)\n\u001b[1;32m     <a href='vscode-notebook-cell:/Users/stinesvaerke/Documents/GitHub/SDM_Recsys/Recsys_SDM.ipynb#X25sZmlsZQ%3D%3D?line=9'>10</a>\u001b[0m     user_ratings \u001b[39m=\u001b[39m train_matrix[indices\u001b[39m.\u001b[39mflatten(), :]\u001b[39m.\u001b[39mtoarray()\n\u001b[1;32m     <a href='vscode-notebook-cell:/Users/stinesvaerke/Documents/GitHub/SDM_Recsys/Recsys_SDM.ipynb#X25sZmlsZQ%3D%3D?line=10'>11</a>\u001b[0m     weights \u001b[39m=\u001b[39m \u001b[39m1\u001b[39m \u001b[39m/\u001b[39m (distances\u001b[39m.\u001b[39mflatten() \u001b[39m+\u001b[39m \u001b[39m1e-6\u001b[39m)\n",
      "File \u001b[0;32m/Library/Frameworks/Python.framework/Versions/3.10/lib/python3.10/site-packages/sklearn/neighbors/_base.py:796\u001b[0m, in \u001b[0;36mKNeighborsMixin.kneighbors\u001b[0;34m(self, X, n_neighbors, return_distance)\u001b[0m\n\u001b[1;32m    793\u001b[0m     \u001b[39melse\u001b[39;00m:\n\u001b[1;32m    794\u001b[0m         kwds \u001b[39m=\u001b[39m \u001b[39mself\u001b[39m\u001b[39m.\u001b[39meffective_metric_params_\n\u001b[0;32m--> 796\u001b[0m     chunked_results \u001b[39m=\u001b[39m \u001b[39mlist\u001b[39;49m(\n\u001b[1;32m    797\u001b[0m         pairwise_distances_chunked(\n\u001b[1;32m    798\u001b[0m             X,\n\u001b[1;32m    799\u001b[0m             \u001b[39mself\u001b[39;49m\u001b[39m.\u001b[39;49m_fit_X,\n\u001b[1;32m    800\u001b[0m             reduce_func\u001b[39m=\u001b[39;49mreduce_func,\n\u001b[1;32m    801\u001b[0m             metric\u001b[39m=\u001b[39;49m\u001b[39mself\u001b[39;49m\u001b[39m.\u001b[39;49meffective_metric_,\n\u001b[1;32m    802\u001b[0m             n_jobs\u001b[39m=\u001b[39;49mn_jobs,\n\u001b[1;32m    803\u001b[0m             \u001b[39m*\u001b[39;49m\u001b[39m*\u001b[39;49mkwds,\n\u001b[1;32m    804\u001b[0m         )\n\u001b[1;32m    805\u001b[0m     )\n\u001b[1;32m    807\u001b[0m \u001b[39melif\u001b[39;00m \u001b[39mself\u001b[39m\u001b[39m.\u001b[39m_fit_method \u001b[39min\u001b[39;00m [\u001b[39m\"\u001b[39m\u001b[39mball_tree\u001b[39m\u001b[39m\"\u001b[39m, \u001b[39m\"\u001b[39m\u001b[39mkd_tree\u001b[39m\u001b[39m\"\u001b[39m]:\n\u001b[1;32m    808\u001b[0m     \u001b[39mif\u001b[39;00m issparse(X):\n",
      "File \u001b[0;32m/Library/Frameworks/Python.framework/Versions/3.10/lib/python3.10/site-packages/sklearn/metrics/pairwise.py:1850\u001b[0m, in \u001b[0;36mpairwise_distances_chunked\u001b[0;34m(X, Y, reduce_func, metric, n_jobs, working_memory, **kwds)\u001b[0m\n\u001b[1;32m   1848\u001b[0m \u001b[39melse\u001b[39;00m:\n\u001b[1;32m   1849\u001b[0m     X_chunk \u001b[39m=\u001b[39m X[sl]\n\u001b[0;32m-> 1850\u001b[0m D_chunk \u001b[39m=\u001b[39m pairwise_distances(X_chunk, Y, metric\u001b[39m=\u001b[39;49mmetric, n_jobs\u001b[39m=\u001b[39;49mn_jobs, \u001b[39m*\u001b[39;49m\u001b[39m*\u001b[39;49mkwds)\n\u001b[1;32m   1851\u001b[0m \u001b[39mif\u001b[39;00m (X \u001b[39mis\u001b[39;00m Y \u001b[39mor\u001b[39;00m Y \u001b[39mis\u001b[39;00m \u001b[39mNone\u001b[39;00m) \u001b[39mand\u001b[39;00m PAIRWISE_DISTANCE_FUNCTIONS\u001b[39m.\u001b[39mget(\n\u001b[1;32m   1852\u001b[0m     metric, \u001b[39mNone\u001b[39;00m\n\u001b[1;32m   1853\u001b[0m ) \u001b[39mis\u001b[39;00m euclidean_distances:\n\u001b[1;32m   1854\u001b[0m     \u001b[39m# zeroing diagonal, taking care of aliases of \"euclidean\",\u001b[39;00m\n\u001b[1;32m   1855\u001b[0m     \u001b[39m# i.e. \"l2\"\u001b[39;00m\n\u001b[1;32m   1856\u001b[0m     D_chunk\u001b[39m.\u001b[39mflat[sl\u001b[39m.\u001b[39mstart :: _num_samples(X) \u001b[39m+\u001b[39m \u001b[39m1\u001b[39m] \u001b[39m=\u001b[39m \u001b[39m0\u001b[39m\n",
      "File \u001b[0;32m/Library/Frameworks/Python.framework/Versions/3.10/lib/python3.10/site-packages/sklearn/metrics/pairwise.py:2022\u001b[0m, in \u001b[0;36mpairwise_distances\u001b[0;34m(X, Y, metric, n_jobs, force_all_finite, **kwds)\u001b[0m\n\u001b[1;32m   2019\u001b[0m         \u001b[39mreturn\u001b[39;00m distance\u001b[39m.\u001b[39msquareform(distance\u001b[39m.\u001b[39mpdist(X, metric\u001b[39m=\u001b[39mmetric, \u001b[39m*\u001b[39m\u001b[39m*\u001b[39mkwds))\n\u001b[1;32m   2020\u001b[0m     func \u001b[39m=\u001b[39m partial(distance\u001b[39m.\u001b[39mcdist, metric\u001b[39m=\u001b[39mmetric, \u001b[39m*\u001b[39m\u001b[39m*\u001b[39mkwds)\n\u001b[0;32m-> 2022\u001b[0m \u001b[39mreturn\u001b[39;00m _parallel_pairwise(X, Y, func, n_jobs, \u001b[39m*\u001b[39;49m\u001b[39m*\u001b[39;49mkwds)\n",
      "File \u001b[0;32m/Library/Frameworks/Python.framework/Versions/3.10/lib/python3.10/site-packages/sklearn/metrics/pairwise.py:1568\u001b[0m, in \u001b[0;36m_parallel_pairwise\u001b[0;34m(X, Y, func, n_jobs, **kwds)\u001b[0m\n\u001b[1;32m   1566\u001b[0m fd \u001b[39m=\u001b[39m delayed(_dist_wrapper)\n\u001b[1;32m   1567\u001b[0m ret \u001b[39m=\u001b[39m np\u001b[39m.\u001b[39mempty((X\u001b[39m.\u001b[39mshape[\u001b[39m0\u001b[39m], Y\u001b[39m.\u001b[39mshape[\u001b[39m0\u001b[39m]), dtype\u001b[39m=\u001b[39mdtype, order\u001b[39m=\u001b[39m\u001b[39m\"\u001b[39m\u001b[39mF\u001b[39m\u001b[39m\"\u001b[39m)\n\u001b[0;32m-> 1568\u001b[0m Parallel(backend\u001b[39m=\u001b[39;49m\u001b[39m\"\u001b[39;49m\u001b[39mthreading\u001b[39;49m\u001b[39m\"\u001b[39;49m, n_jobs\u001b[39m=\u001b[39;49mn_jobs)(\n\u001b[1;32m   1569\u001b[0m     fd(func, ret, s, X, Y[s], \u001b[39m*\u001b[39;49m\u001b[39m*\u001b[39;49mkwds)\n\u001b[1;32m   1570\u001b[0m     \u001b[39mfor\u001b[39;49;00m s \u001b[39min\u001b[39;49;00m gen_even_slices(_num_samples(Y), effective_n_jobs(n_jobs))\n\u001b[1;32m   1571\u001b[0m )\n\u001b[1;32m   1573\u001b[0m \u001b[39mif\u001b[39;00m (X \u001b[39mis\u001b[39;00m Y \u001b[39mor\u001b[39;00m Y \u001b[39mis\u001b[39;00m \u001b[39mNone\u001b[39;00m) \u001b[39mand\u001b[39;00m func \u001b[39mis\u001b[39;00m euclidean_distances:\n\u001b[1;32m   1574\u001b[0m     \u001b[39m# zeroing diagonal for euclidean norm.\u001b[39;00m\n\u001b[1;32m   1575\u001b[0m     \u001b[39m# TODO: do it also for other norms.\u001b[39;00m\n\u001b[1;32m   1576\u001b[0m     np\u001b[39m.\u001b[39mfill_diagonal(ret, \u001b[39m0\u001b[39m)\n",
      "File \u001b[0;32m/Library/Frameworks/Python.framework/Versions/3.10/lib/python3.10/site-packages/joblib/parallel.py:1098\u001b[0m, in \u001b[0;36mParallel.__call__\u001b[0;34m(self, iterable)\u001b[0m\n\u001b[1;32m   1095\u001b[0m     \u001b[39mself\u001b[39m\u001b[39m.\u001b[39m_iterating \u001b[39m=\u001b[39m \u001b[39mFalse\u001b[39;00m\n\u001b[1;32m   1097\u001b[0m \u001b[39mwith\u001b[39;00m \u001b[39mself\u001b[39m\u001b[39m.\u001b[39m_backend\u001b[39m.\u001b[39mretrieval_context():\n\u001b[0;32m-> 1098\u001b[0m     \u001b[39mself\u001b[39;49m\u001b[39m.\u001b[39;49mretrieve()\n\u001b[1;32m   1099\u001b[0m \u001b[39m# Make sure that we get a last message telling us we are done\u001b[39;00m\n\u001b[1;32m   1100\u001b[0m elapsed_time \u001b[39m=\u001b[39m time\u001b[39m.\u001b[39mtime() \u001b[39m-\u001b[39m \u001b[39mself\u001b[39m\u001b[39m.\u001b[39m_start_time\n",
      "File \u001b[0;32m/Library/Frameworks/Python.framework/Versions/3.10/lib/python3.10/site-packages/joblib/parallel.py:975\u001b[0m, in \u001b[0;36mParallel.retrieve\u001b[0;34m(self)\u001b[0m\n\u001b[1;32m    973\u001b[0m \u001b[39mtry\u001b[39;00m:\n\u001b[1;32m    974\u001b[0m     \u001b[39mif\u001b[39;00m \u001b[39mgetattr\u001b[39m(\u001b[39mself\u001b[39m\u001b[39m.\u001b[39m_backend, \u001b[39m'\u001b[39m\u001b[39msupports_timeout\u001b[39m\u001b[39m'\u001b[39m, \u001b[39mFalse\u001b[39;00m):\n\u001b[0;32m--> 975\u001b[0m         \u001b[39mself\u001b[39m\u001b[39m.\u001b[39m_output\u001b[39m.\u001b[39mextend(job\u001b[39m.\u001b[39;49mget(timeout\u001b[39m=\u001b[39;49m\u001b[39mself\u001b[39;49m\u001b[39m.\u001b[39;49mtimeout))\n\u001b[1;32m    976\u001b[0m     \u001b[39melse\u001b[39;00m:\n\u001b[1;32m    977\u001b[0m         \u001b[39mself\u001b[39m\u001b[39m.\u001b[39m_output\u001b[39m.\u001b[39mextend(job\u001b[39m.\u001b[39mget())\n",
      "File \u001b[0;32m/Library/Frameworks/Python.framework/Versions/3.10/lib/python3.10/multiprocessing/pool.py:768\u001b[0m, in \u001b[0;36mApplyResult.get\u001b[0;34m(self, timeout)\u001b[0m\n\u001b[1;32m    767\u001b[0m \u001b[39mdef\u001b[39;00m \u001b[39mget\u001b[39m(\u001b[39mself\u001b[39m, timeout\u001b[39m=\u001b[39m\u001b[39mNone\u001b[39;00m):\n\u001b[0;32m--> 768\u001b[0m     \u001b[39mself\u001b[39;49m\u001b[39m.\u001b[39;49mwait(timeout)\n\u001b[1;32m    769\u001b[0m     \u001b[39mif\u001b[39;00m \u001b[39mnot\u001b[39;00m \u001b[39mself\u001b[39m\u001b[39m.\u001b[39mready():\n\u001b[1;32m    770\u001b[0m         \u001b[39mraise\u001b[39;00m \u001b[39mTimeoutError\u001b[39;00m\n",
      "File \u001b[0;32m/Library/Frameworks/Python.framework/Versions/3.10/lib/python3.10/multiprocessing/pool.py:765\u001b[0m, in \u001b[0;36mApplyResult.wait\u001b[0;34m(self, timeout)\u001b[0m\n\u001b[1;32m    764\u001b[0m \u001b[39mdef\u001b[39;00m \u001b[39mwait\u001b[39m(\u001b[39mself\u001b[39m, timeout\u001b[39m=\u001b[39m\u001b[39mNone\u001b[39;00m):\n\u001b[0;32m--> 765\u001b[0m     \u001b[39mself\u001b[39;49m\u001b[39m.\u001b[39;49m_event\u001b[39m.\u001b[39;49mwait(timeout)\n",
      "File \u001b[0;32m/Library/Frameworks/Python.framework/Versions/3.10/lib/python3.10/threading.py:607\u001b[0m, in \u001b[0;36mEvent.wait\u001b[0;34m(self, timeout)\u001b[0m\n\u001b[1;32m    605\u001b[0m signaled \u001b[39m=\u001b[39m \u001b[39mself\u001b[39m\u001b[39m.\u001b[39m_flag\n\u001b[1;32m    606\u001b[0m \u001b[39mif\u001b[39;00m \u001b[39mnot\u001b[39;00m signaled:\n\u001b[0;32m--> 607\u001b[0m     signaled \u001b[39m=\u001b[39m \u001b[39mself\u001b[39;49m\u001b[39m.\u001b[39;49m_cond\u001b[39m.\u001b[39;49mwait(timeout)\n\u001b[1;32m    608\u001b[0m \u001b[39mreturn\u001b[39;00m signaled\n",
      "File \u001b[0;32m/Library/Frameworks/Python.framework/Versions/3.10/lib/python3.10/threading.py:320\u001b[0m, in \u001b[0;36mCondition.wait\u001b[0;34m(self, timeout)\u001b[0m\n\u001b[1;32m    318\u001b[0m \u001b[39mtry\u001b[39;00m:    \u001b[39m# restore state no matter what (e.g., KeyboardInterrupt)\u001b[39;00m\n\u001b[1;32m    319\u001b[0m     \u001b[39mif\u001b[39;00m timeout \u001b[39mis\u001b[39;00m \u001b[39mNone\u001b[39;00m:\n\u001b[0;32m--> 320\u001b[0m         waiter\u001b[39m.\u001b[39;49macquire()\n\u001b[1;32m    321\u001b[0m         gotit \u001b[39m=\u001b[39m \u001b[39mTrue\u001b[39;00m\n\u001b[1;32m    322\u001b[0m     \u001b[39melse\u001b[39;00m:\n",
      "\u001b[0;31mKeyboardInterrupt\u001b[0m: "
     ]
    }
   ],
   "source": [
    "#Computing the hyperparameters for the validation dataset. \n",
    "# By looping through all possible combinations of thehyperparameters, the hyperparameter space is explored and the optimal combination\n",
    "# that results in the lowest RMSE can be identified. This approach ensures that the system is able to be generalized to new data. \n",
    "# This is not a computational efficient method, however it is very thorough. The code has been run once and it took 78 minutes, therefore it\n",
    "# will not be run again\n",
    "rmse = build_knn()\n",
    "nr_recommendations = [5,7,9]\n",
    "n_neigbours = [10, 20, 50]\n",
    "metric = ['minkowski','euclidean','manhattan']\n",
    "parameters = []\n",
    "for number in nr_recommendations:\n",
    "    for par in metric: \n",
    "        for tal in n_neigbours:\n",
    "            parameters.append([build_knn(data = validation_matrix, metric=par, nr_recommendations=number), par, number, tal])"
   ]
  },
  {
   "cell_type": "code",
   "execution_count": null,
   "metadata": {},
   "outputs": [],
   "source": [
    "# Printing the best parameters, based on the loop above. \n",
    "best_parameters = sorted(parameters, key= lambda x: x[0])[0]\n",
    "print(best_parameters)"
   ]
  },
  {
   "cell_type": "markdown",
   "metadata": {},
   "source": [
    "<span style='color:#F76241'>|</span> The best parameters for the model are metric: minkowski, n_neighbors: 9, nr.recommendations: 10. Now that the optimal hyperparameters have been identified, the recommender system can be defined and fitted with these hyperparameters and the test dataset."
   ]
  },
  {
   "cell_type": "code",
   "execution_count": 71,
   "metadata": {},
   "outputs": [
    {
     "data": {
      "text/html": [
       "<style>#sk-container-id-5 {color: black;background-color: white;}#sk-container-id-5 pre{padding: 0;}#sk-container-id-5 div.sk-toggleable {background-color: white;}#sk-container-id-5 label.sk-toggleable__label {cursor: pointer;display: block;width: 100%;margin-bottom: 0;padding: 0.3em;box-sizing: border-box;text-align: center;}#sk-container-id-5 label.sk-toggleable__label-arrow:before {content: \"▸\";float: left;margin-right: 0.25em;color: #696969;}#sk-container-id-5 label.sk-toggleable__label-arrow:hover:before {color: black;}#sk-container-id-5 div.sk-estimator:hover label.sk-toggleable__label-arrow:before {color: black;}#sk-container-id-5 div.sk-toggleable__content {max-height: 0;max-width: 0;overflow: hidden;text-align: left;background-color: #f0f8ff;}#sk-container-id-5 div.sk-toggleable__content pre {margin: 0.2em;color: black;border-radius: 0.25em;background-color: #f0f8ff;}#sk-container-id-5 input.sk-toggleable__control:checked~div.sk-toggleable__content {max-height: 200px;max-width: 100%;overflow: auto;}#sk-container-id-5 input.sk-toggleable__control:checked~label.sk-toggleable__label-arrow:before {content: \"▾\";}#sk-container-id-5 div.sk-estimator input.sk-toggleable__control:checked~label.sk-toggleable__label {background-color: #d4ebff;}#sk-container-id-5 div.sk-label input.sk-toggleable__control:checked~label.sk-toggleable__label {background-color: #d4ebff;}#sk-container-id-5 input.sk-hidden--visually {border: 0;clip: rect(1px 1px 1px 1px);clip: rect(1px, 1px, 1px, 1px);height: 1px;margin: -1px;overflow: hidden;padding: 0;position: absolute;width: 1px;}#sk-container-id-5 div.sk-estimator {font-family: monospace;background-color: #f0f8ff;border: 1px dotted black;border-radius: 0.25em;box-sizing: border-box;margin-bottom: 0.5em;}#sk-container-id-5 div.sk-estimator:hover {background-color: #d4ebff;}#sk-container-id-5 div.sk-parallel-item::after {content: \"\";width: 100%;border-bottom: 1px solid gray;flex-grow: 1;}#sk-container-id-5 div.sk-label:hover label.sk-toggleable__label {background-color: #d4ebff;}#sk-container-id-5 div.sk-serial::before {content: \"\";position: absolute;border-left: 1px solid gray;box-sizing: border-box;top: 0;bottom: 0;left: 50%;z-index: 0;}#sk-container-id-5 div.sk-serial {display: flex;flex-direction: column;align-items: center;background-color: white;padding-right: 0.2em;padding-left: 0.2em;position: relative;}#sk-container-id-5 div.sk-item {position: relative;z-index: 1;}#sk-container-id-5 div.sk-parallel {display: flex;align-items: stretch;justify-content: center;background-color: white;position: relative;}#sk-container-id-5 div.sk-item::before, #sk-container-id-5 div.sk-parallel-item::before {content: \"\";position: absolute;border-left: 1px solid gray;box-sizing: border-box;top: 0;bottom: 0;left: 50%;z-index: -1;}#sk-container-id-5 div.sk-parallel-item {display: flex;flex-direction: column;z-index: 1;position: relative;background-color: white;}#sk-container-id-5 div.sk-parallel-item:first-child::after {align-self: flex-end;width: 50%;}#sk-container-id-5 div.sk-parallel-item:last-child::after {align-self: flex-start;width: 50%;}#sk-container-id-5 div.sk-parallel-item:only-child::after {width: 0;}#sk-container-id-5 div.sk-dashed-wrapped {border: 1px dashed gray;margin: 0 0.4em 0.5em 0.4em;box-sizing: border-box;padding-bottom: 0.4em;background-color: white;}#sk-container-id-5 div.sk-label label {font-family: monospace;font-weight: bold;display: inline-block;line-height: 1.2em;}#sk-container-id-5 div.sk-label-container {text-align: center;}#sk-container-id-5 div.sk-container {/* jupyter's `normalize.less` sets `[hidden] { display: none; }` but bootstrap.min.css set `[hidden] { display: none !important; }` so we also need the `!important` here to be able to override the default hidden behavior on the sphinx rendered scikit-learn.org. See: https://github.com/scikit-learn/scikit-learn/issues/21755 */display: inline-block !important;position: relative;}#sk-container-id-5 div.sk-text-repr-fallback {display: none;}</style><div id=\"sk-container-id-5\" class=\"sk-top-container\"><div class=\"sk-text-repr-fallback\"><pre>NearestNeighbors(algorithm=&#x27;brute&#x27;, n_neighbors=9)</pre><b>In a Jupyter environment, please rerun this cell to show the HTML representation or trust the notebook. <br />On GitHub, the HTML representation is unable to render, please try loading this page with nbviewer.org.</b></div><div class=\"sk-container\" hidden><div class=\"sk-item\"><div class=\"sk-estimator sk-toggleable\"><input class=\"sk-toggleable__control sk-hidden--visually\" id=\"sk-estimator-id-5\" type=\"checkbox\" checked><label for=\"sk-estimator-id-5\" class=\"sk-toggleable__label sk-toggleable__label-arrow\">NearestNeighbors</label><div class=\"sk-toggleable__content\"><pre>NearestNeighbors(algorithm=&#x27;brute&#x27;, n_neighbors=9)</pre></div></div></div></div></div>"
      ],
      "text/plain": [
       "NearestNeighbors(algorithm='brute', n_neighbors=9)"
      ]
     },
     "execution_count": 71,
     "metadata": {},
     "output_type": "execute_result"
    }
   ],
   "source": [
    "#The best parameters inputed to the model and fitted to the test subset.\n",
    "knn_model = NearestNeighbors(metric = 'minkowski', algorithm = 'brute', n_neighbors=9)\n",
    "knn_model.fit(test_matrix)"
   ]
  },
  {
   "cell_type": "markdown",
   "metadata": {},
   "source": [
    "### 2.2<span style='color:#F76241'>|</span> Testing the KNN Recommender System with Optimal Hyperparameters <br>\n",
    "This section applies the identified optimal hyperparameters to the model. Furthermore, the section identifies the K-nearest neighbours for a random user and provides recommeded jokes to the target user based on the preferences of the K-nearest neighbours. "
   ]
  },
  {
   "cell_type": "markdown",
   "metadata": {},
   "source": [
    "<span style='color:#F76241'>|</span> To find the K-nearest neigbors for each user in the test set using, the kneighbors() method is applied. This calculates the distance and indices of the K-nearest neighbors for each user. Furthermore, the kneighbors() method inputs the test data and returns two arrays: distances and indices. The distance array contains the distances between each user and the k-nearest neighbors, whereas the indices array includes the indices of the k-nearest neighbors in the training subset. "
   ]
  },
  {
   "cell_type": "code",
   "execution_count": 72,
   "metadata": {},
   "outputs": [],
   "source": [
    "distances, indices = knn_model.kneighbors(test_matrix)"
   ]
  },
  {
   "cell_type": "markdown",
   "metadata": {},
   "source": [
    "<span style='color:#F76241'>|</span> The following code will print the K-nearest neighbours to a random user. By first identifying the indices of jokes that a random user has not yet rated and those that the random user has rated, it creates a new matrix. The matrix contains only the rows of users who have rated the same jokes as the random user and have rated at least one of the unrated jokes. The matrix is then fitted to the KNN model, which calculates the indices of the k-nearest neighbors for the random user in the original matrix. Finally, the code loops through the distances and indices arrays to print the k-nearest neighbours that have rated all the unrated jokes. This is done by checking if the neighbour has rated any of the unrated jokes and only printing the neighbour if they have not rated any of the unrated jokes. This results in the K-nearest neighbours along with their distance to the random user. "
   ]
  },
  {
   "cell_type": "code",
   "execution_count": 73,
   "metadata": {},
   "outputs": [
    {
     "name": "stdout",
     "output_type": "stream",
     "text": [
      "Similarities for user 1699:\n",
      "\n",
      "1: 30043, with distance of 30.339037278727222:\n",
      "2: 13675, with distance of 30.913750920908967:\n",
      "3: 25888, with distance of 31.083360243062526:\n",
      "4: 28294, with distance of 31.27855413857872:\n",
      "5: 7166, with distance of 31.364858743504648:\n",
      "6: 23472, with distance of 31.388465540704598:\n",
      "7: 62652, with distance of 31.517894885286992:\n",
      "8: 57383, with distance of 31.615759820064422:\n"
     ]
    }
   ],
   "source": [
    "#code adapted from Makwana (2020) \n",
    "# Get the indices of the jokes that a random user has not yet rated\n",
    "unrated_jokes_indices = np.where(df_joke_matrix.iloc[query_index].isnull())[0]\n",
    "\n",
    "#Get the indices of the jokes that a random user has rated\n",
    "rated_jokes_indices = np.where(~np.isnan(df_joke_matrix.iloc[query_index]))[0]\n",
    "\n",
    "# Creating a new matrix containing only the rows of users who have rated the same jokes as \n",
    "# the random user and rated at least one of the unrated jokes. \n",
    "df_joke_matrix_rated = df_joke_matrix.iloc[:, rated_jokes_indices].dropna()\n",
    "df_joke_matrix_rated = df_joke_matrix.loc[(df_joke_matrix_rated[unrated_jokes_indices] == 0).all(axis=1)]\n",
    "\n",
    "# Fitting the KNN model on the new matrix\n",
    "knn_model = NearestNeighbors(metric='minkowski', algorithm='brute', n_neighbors=9)\n",
    "knn_model.fit(df_joke_matrix_rated)\n",
    "\n",
    "#Calculating indices of the k-nearest neighbours for random user in matrix\n",
    "distances, indices = knn_model.kneighbors(df_joke_matrix.iloc[query_index, rated_jokes_indices].values.reshape(1, -1), n_neighbors=9)\n",
    "\n",
    "#Printing the k-nearest neighbours\n",
    "num_recommendations = 10\n",
    "counter = 0\n",
    "for i in range(0, len(distances.flatten())):\n",
    "    if i == 0:\n",
    "        print('Similarities for user {0}:\\n'.format(df_joke_matrix.index[query_index]))\n",
    "    elif counter >= num_recommendations:\n",
    "        break\n",
    "    else:\n",
    "        # Get the indices of the unrated jokes for the current neighbor\n",
    "        unrated_jokes_indices_neighbor = np.where(df_joke_matrix_rated.iloc[indices.flatten()[i]].isnull())[0]\n",
    "        # Check if the neighbor has rated any of the unrated jokes\n",
    "        if len(unrated_jokes_indices_neighbor) == len(unrated_jokes_indices):\n",
    "            print('{0}: {1}, with distance of {2}:'.format(counter+1, df_joke_matrix_rated.index[indices.flatten()[i]], distances.flatten()[i]))\n",
    "            counter += 1"
   ]
  },
  {
   "cell_type": "markdown",
   "metadata": {},
   "source": [
    "<span style='color:#F76241'>|</span> As the aim of the recommender system is to answer the business question \"Which method of collaborative filtering should Jester use to best recommend jokes to users?\", the system must be able to calculate recommended jokes for users. Therefore, to find the recommended jokes, an index of the random user is set. This is followed by finding the distances and indices of the k-nearest neighbours most similar to the target user. The jokes that the target user has not yet rated are identified by creating a boolean mask, in which unrated jokes have a value of 0. From this an empty list to store the recommended jokes is created. A loop of the top k-nearest neighbours and for ech user is performed. This gets the indices of the jokes that the target user has rated using a boolean mask where rated jokes have a value other than 0. The set difference between the rated jokes and the unrated jokes is calculated to get a list of jokes that the similar users have rated but the target user has not yet rated and are added to the recommended jokes list. Finally, the top 10 jokes are printed from the recommended jokes list. "
   ]
  },
  {
   "cell_type": "code",
   "execution_count": 75,
   "metadata": {},
   "outputs": [
    {
     "name": "stdout",
     "output_type": "stream",
     "text": [
      "Recommended jokes for user 1699:\n",
      "1: jokeID 7\n",
      "2: jokeID 8\n",
      "3: jokeID 105\n",
      "4: jokeID 13\n",
      "5: jokeID 15\n",
      "6: jokeID 16\n",
      "7: jokeID 17\n",
      "8: jokeID 18\n",
      "9: jokeID 19\n",
      "10: jokeID 118\n"
     ]
    }
   ],
   "source": [
    "# Set the index of the user you want to make recommendations for\n",
    "query_index = df_joke_matrix.index.get_loc(1699)\n",
    "\n",
    "# Find the distances and indices of the closest users\n",
    "distances, indices = knn_model.kneighbors(df_joke_matrix.iloc[query_index].values.reshape(1, -1), n_neighbors=9)\n",
    "\n",
    "# Find the jokes that the target user has not yet rated (i.e., the unrated jokes)\n",
    "unrated_mask = df_joke_matrix.iloc[query_index] == 0\n",
    "unrated_jokes = df_joke_matrix.columns[unrated_mask]\n",
    "\n",
    "# Find the jokes that the top 5 similar users have rated but the target user has not yet rated\n",
    "recommended_jokes = []\n",
    "for i in range(1, len(distances.flatten())):\n",
    "    # Get the indices of the jokes that the current similar user has rated\n",
    "    rated_mask = df_joke_matrix.iloc[indices.flatten()[i]] != 0\n",
    "    rated_jokes = df_joke_matrix.columns[rated_mask]\n",
    "    # Find the jokes that the similar user has rated but the target user has not yet rated\n",
    "    recommended_jokes.extend(list(set(rated_jokes) - set(unrated_jokes)))\n",
    "    # Only recommend up to 5 jokes for the user\n",
    "    if len(recommended_jokes) >= 5:\n",
    "        break\n",
    "\n",
    "# Print the recommended jokes\n",
    "print('Recommended jokes for user {0}:'.format(df_joke_matrix.index[query_index]))\n",
    "for i, joke in enumerate(recommended_jokes[:10]):\n",
    "    print('{0}: jokeID {1}'.format(i+1, joke))\n"
   ]
  },
  {
   "cell_type": "markdown",
   "metadata": {},
   "source": [
    "### 2.3<span style='color:#F76241'>|</span> Evaluation <br>  \n",
    "In order to evaluate the KNN recommender system, the root mean squared error (RMSE) is calculated. The RMSE measures the difference between the predicted ratings and the actual ratinngs. As mentioned earlier a lower RMSE indicates that the recommender system is better at predicting ratings and therefore more accurate. The RMSE for the KNN recommender system is 2.81. Whiler this value may seem relaitively high, it is important to not that the rating sclae ranges from -10 to 10. Therefore, an RMSE of 2.81 indicates that, on average, the system's predicted ratings are off by approximately 3 rating points, which is a significant difference on this cale. \n",
    "\n",
    "Additionally, this level of error could potentialy lead to the system recommending jokes that a user may not enjoy, as the predicted ratings may be significantly different from the user's actual ratings. Thus, additional evaluation and refining of the recommender system should be conducted to improve the accuracy and minimize the RMSE. Furthermore, collecting more data and incorporating these could help improve the system's performance over time. "
   ]
  },
  {
   "cell_type": "markdown",
   "metadata": {},
   "source": [
    "### <b>3<span style='color:#F76241'>|</span> Singular Value Decomposition <br>\n",
    "Singular Value Decomposition (SVD) is a technique that applies matrix factorisation technique to build recommender systems that identifies latent features that affect the interaction between users and items inn a rating matrix. SVD decomposes the original matrix into three matrices: a user matrix, a joke matrix, and a diagonal matrix with different weights of the latent features. The user matrix represents how much each user likes each feature, the joke matrix represents how much each joke has each feature, and the diagonal matrix represents how important each feature is to the overall rating. By multiplying the three matrices, the original rating matrix can be reconstructed and predict how users would rate new jokes.  \n",
    "\n",
    "SVD is beneficial as it handles the spasity of rating matrices and can make accurate predictions even when there are missing ratings. However, choosing an appropriate rank can be challenging, as too low of a rank may result in poor prediction accuracy, while too high of a rank may cause overfitting and increase computational complexitiy. "
   ]
  },
  {
   "cell_type": "markdown",
   "metadata": {},
   "source": [
    "### 3.1<span style='color:#F76241'>|</span> Hyperparameter Tuning <br>\n",
    "Similar to hyperparameter tuning in the K-nearest neighbour model, tuning is important for constructing a high-performing SVD-based recommender system. The hyperparameters that can affect the performance of the SVD, therefore choosing appropriate hyperparameters is crucial. The hyperparameters which could influence the performance include the rank, the learning rate, the regularisation parameter, and the number of iterations. <br>\n",
    "\n",
    "1. The Rank: Number of latent factors used in the decomposition of the rating matrix. This represents the number of dimensions that capture the interactions between the users and items. \n",
    "2. The Learning Rate: Determines the step size for updating the user and joke matrices in each iteration of the optimization algorithm. \n",
    "3. The Regularisation Parameter: Controls the ability of the system to generalise to new data.\n",
    "4. The Number of Iterations: Maximum number of times that the optimisation algorithm iterates over the training data to find the optimal combination. \n",
    "\n",
    "Overall, hyperparameter tuning aims to optimise the system's performance. By choosing the appropriate hyperparameters, the system's accuracy and generaliability can be improved."
   ]
  },
  {
   "cell_type": "code",
   "execution_count": null,
   "metadata": {},
   "outputs": [],
   "source": [
    "#Define function for SVD. (r=number of latent factors to use in decomposition)\n",
    "def build_svd(data,r=5):\n",
    "    #Computing SVD components on the training rating matrix to reduce dimensionality.\n",
    "    u, s, Vt = svds(masked_dataset_csr.toarray(), k=r)\n",
    "\n",
    "    #Constructing diagonal matrix from the singular values in sigma. \n",
    "    sigma_diag_matrix = np.diag(s)\n",
    "\n",
    "    #Computing the predicted ratings for all users and jokes. \n",
    "    X_pred = np.dot(np.dot(u, sigma_diag_matrix), Vt)\n",
    "    return X_pred"
   ]
  },
  {
   "cell_type": "markdown",
   "metadata": {},
   "source": [
    "<span style='color:#F76241'>|</span> After having defined a function for computing the singular value decomposition, the hyperparameter tuning can take place. The code below conducts the hyperparameter tuning by defining a list of values for the hyperparameter including the variable r which controls the number of latent factors used by the SVD model. Furthermore, this is done by creating a training subset of the original Jester dataset into a masked dataset and a sample dataset. The masked dataset is used to train the SVD model, by returning predicted ratings based on the SVD model. The predicted ratings are then compared to the actual ratings in the sample dataset using the RMSE metric. "
   ]
  },
  {
   "cell_type": "code",
   "execution_count": null,
   "metadata": {},
   "outputs": [],
   "source": [
    "r_list = [2,5,10] \n",
    "parameters = []\n",
    "for r in r_list:\n",
    "    #Creating dataset and sample\n",
    "    masked_dataset, actual_sampledata = train_test_split(df_Jester, test_size=0.15)\n",
    "\n",
    "    masked_dataset_csr = csr_matrix(masked_dataset.pivot(index='userId', columns='jokeId', values='rating').fillna(0).values)\n",
    "    actual_sampledata_csr = csr_matrix(actual_sampledata.pivot(index='userId', columns='jokeId', values='rating').fillna(0).values)\n",
    "\n",
    "    prediction = build_svd(masked_dataset_csr.toarray(),r=r)\n",
    "\n",
    "    prediction = prediction[actual_sampledata_csr.toarray().nonzero()].flatten()\n",
    "    actual_values = actual_sampledata_csr.toarray()[actual_sampledata_csr.toarray().nonzero()].flatten() \n",
    "    \n",
    "    rmse = np.sqrt(mean_squared_error(prediction, actual_values))\n",
    "    parameters.append([r, rmse])"
   ]
  },
  {
   "cell_type": "code",
   "execution_count": null,
   "metadata": {},
   "outputs": [
    {
     "name": "stdout",
     "output_type": "stream",
     "text": [
      "[2, 5.604705952979521]\n"
     ]
    }
   ],
   "source": [
    "# Printing the best parameters based on the hyperparameter tuning above. \n",
    "best_parameters = sorted(parameters, key= lambda x: x[0])[0]\n",
    "print(best_parameters)"
   ]
  },
  {
   "cell_type": "markdown",
   "metadata": {},
   "source": [
    "<span style='color:#F76241'>|</span> As can be seen the optimal number of iterations for the SVD model is 2, with the lowest RMSE of 5.60. <br>\n",
    "\n",
    "In order to test the system with the optimal hyperparameters, the original dataset is once again split into a training and test set and converted into compressed sparse row matrices. The SVD model using the best hyperparameters is defined (r=2) to get the predicted ratings for all users and jokes. Finally, a random user is selected and their predicted ratings for all jokes are retreived. The ratings are sorted in descending order, in which the top 5 rated jokes are slected to finally recommend 5 jokes to the selected user. "
   ]
  },
  {
   "cell_type": "code",
   "execution_count": null,
   "metadata": {},
   "outputs": [
    {
     "name": "stdout",
     "output_type": "stream",
     "text": [
      "78     2.124583\n",
      "42     2.043844\n",
      "118    1.950721\n",
      "103    1.941552\n",
      "94     1.926793\n",
      "Name: 8574, dtype: float64\n"
     ]
    }
   ],
   "source": [
    "#Splitting the dataset into a training and test subset. \n",
    "masked_dataset, actual_sampledata = train_test_split(df_Jester, test_size=0.15)\n",
    "\n",
    "masked_dataset_csr = csr_matrix(masked_dataset.pivot(index='userId', columns='jokeId', values='rating').fillna(0).values)\n",
    "actual_sampledata_csr = csr_matrix(actual_sampledata.pivot(index='userId', columns='jokeId', values='rating').fillna(0).values)\n",
    "\n",
    "#Getting predictions with best parameters\n",
    "prediction = build_svd(masked_dataset_csr.toarray(), r=2)\n",
    "prediction = pd.DataFrame(prediction)\n",
    "\n",
    "# Selecting user\n",
    "query_index = 8574\n",
    "\n",
    "#Creating selected user rating list \n",
    "user_prediction = prediction.loc[query_index].sort_values(ascending=False) \n",
    "print(user_prediction.head(5))\n"
   ]
  },
  {
   "cell_type": "markdown",
   "metadata": {},
   "source": [
    "### 2.3<span style='color:#F76241'>|</span> Evaluation <br>  \n",
    "In order to evaluate the SVD recommender system, the root mean squared error metric is applied. The SVD recommender system produced an RMSE of 5.60, which is considered very high, as the rating score ranges between -10 and 10. This means that the recommender system is off by approximately 6 rating points, which could lead users to be recommended jokes that they would not enjoy. Therefore the SVD recommender system need further improvement to accurately predict the preferences of users. Examples of further improvements could be to look into the data quality or need for additional features in the model. Moreover, additional evaluation metrics could be calculated to verify the poor performance of the SVD recommender system such as precision and recall (measure how well the system retrieves relevant information)."
   ]
  },
  {
   "cell_type": "markdown",
   "metadata": {},
   "source": [
    "### <b>3<span style='color:#F76241'>|</span> Applying the KNN and SVD Recommender Systems to a NetfliX Dataset<br>\n",
    "To understand the generalisability of the KNN and SVD recommender systems constructed above, a Netflix dataset will be applied. This will allow the following sub-question to be investigated <br>\n",
    "\n",
    "*\"How do KNN and SVD recommender systems differ in terms of their generalisability?\"*"
   ]
  },
  {
   "cell_type": "code",
   "execution_count": null,
   "metadata": {},
   "outputs": [
    {
     "name": "stdout",
     "output_type": "stream",
     "text": [
      "  CustomerID  Rating        Date  Movie ID\n",
      "0       373:     NaN         NaN       373\n",
      "1     643460     4.0  2005-01-26       373\n",
      "2     349399     5.0  2002-11-06       373\n",
      "3    1315469     2.0  2005-08-15       373\n",
      "4    1022903     3.0  2002-11-27       373\n"
     ]
    }
   ],
   "source": [
    "#Importing the .tar files of the Netflix dataset - Code by Viktor\n",
    "# The dataset files have been preliminarly investigated in excel and textEdit and it has been determined that only the training_set is\n",
    "# neccessary to import. \n",
    "\n",
    "# Importing all the files from the folder in the .rar file\n",
    "Train_data = []\n",
    "\n",
    "directory_path = '/Users/stinesvaerke/Desktop/training_set'\n",
    "\n",
    "# Initialize an empty list to store each dataframe from each file\n",
    "df_list = []\n",
    "\n",
    "# Loop through each file in the directory\n",
    "for file_name in os.listdir(directory_path):\n",
    "    # Check that the file is a text file\n",
    "    if file_name.endswith('.txt'):\n",
    "        # Read in the file as a dataframe\n",
    "        df = pd.read_csv(os.path.join(directory_path, file_name), header=None, names=['CustomerID', 'Rating', 'Date'])\n",
    "        # Get the Movie ID from the file name\n",
    "        movie_id = int(file_name.split('_')[1].split('.')[0])\n",
    "        # Add the Movie ID as a column to the dataframe\n",
    "        df['Movie ID'] = movie_id\n",
    "        # Add the dataframe to the list\n",
    "        df_list.append(df)\n",
    "\n",
    "# Concatenate all the dataframes in the list into a single dataframe\n",
    "df = pd.concat(df_list, axis=0, ignore_index=True)\n",
    "\n",
    "# Print the resulting dataframe\n",
    "print(df.head())"
   ]
  },
  {
   "cell_type": "markdown",
   "metadata": {},
   "source": [
    "### <b>3.1<span style='color:#F76241'>|</span> Exploratory Data Analysis <br>\n",
    "\n",
    "To gain an understanding of the data set and the variables within the data set, an exploratory data analysis will be conducted. "
   ]
  },
  {
   "cell_type": "code",
   "execution_count": null,
   "metadata": {},
   "outputs": [
    {
     "data": {
      "text/plain": [
       "CustomerID     object\n",
       "Rating        float64\n",
       "Date           object\n",
       "Movie ID        int64\n",
       "dtype: object"
      ]
     },
     "execution_count": 7,
     "metadata": {},
     "output_type": "execute_result"
    }
   ],
   "source": [
    "#Checking the data types \n",
    "df.dtypes"
   ]
  },
  {
   "cell_type": "code",
   "execution_count": null,
   "metadata": {},
   "outputs": [
    {
     "name": "stdout",
     "output_type": "stream",
     "text": [
      "  CustomerID  Rating        Date  Movie ID\n",
      "0       373:     NaN         NaN       373\n",
      "1     643460     4.0  2005-01-26       373\n",
      "2     349399     5.0  2002-11-06       373\n",
      "3    1315469     2.0  2005-08-15       373\n",
      "4    1022903     3.0  2002-11-27       373\n"
     ]
    }
   ],
   "source": [
    "#Checking the headers of the datasets\n",
    "print(df.head())"
   ]
  },
  {
   "cell_type": "markdown",
   "metadata": {},
   "source": [
    "<span style='color:#F76241'>|</span> The \"Date\" column of the df dataset is also not relevant for this investigation and will therefore be dropped.  "
   ]
  },
  {
   "cell_type": "code",
   "execution_count": null,
   "metadata": {},
   "outputs": [],
   "source": [
    "#Dropping the date column in df dataframe and renaming the dataframe df_netflix\n",
    "df_netflix = df.drop(['Date'], axis=1)"
   ]
  },
  {
   "cell_type": "code",
   "execution_count": null,
   "metadata": {},
   "outputs": [
    {
     "data": {
      "text/html": [
       "<div>\n",
       "<style scoped>\n",
       "    .dataframe tbody tr th:only-of-type {\n",
       "        vertical-align: middle;\n",
       "    }\n",
       "\n",
       "    .dataframe tbody tr th {\n",
       "        vertical-align: top;\n",
       "    }\n",
       "\n",
       "    .dataframe thead th {\n",
       "        text-align: right;\n",
       "    }\n",
       "</style>\n",
       "<table border=\"1\" class=\"dataframe\">\n",
       "  <thead>\n",
       "    <tr style=\"text-align: right;\">\n",
       "      <th></th>\n",
       "      <th>CustomerID</th>\n",
       "      <th>Rating</th>\n",
       "      <th>Movie ID</th>\n",
       "    </tr>\n",
       "  </thead>\n",
       "  <tbody>\n",
       "    <tr>\n",
       "      <th>0</th>\n",
       "      <td>373:</td>\n",
       "      <td>NaN</td>\n",
       "      <td>373</td>\n",
       "    </tr>\n",
       "    <tr>\n",
       "      <th>1</th>\n",
       "      <td>643460</td>\n",
       "      <td>4.0</td>\n",
       "      <td>373</td>\n",
       "    </tr>\n",
       "    <tr>\n",
       "      <th>2</th>\n",
       "      <td>349399</td>\n",
       "      <td>5.0</td>\n",
       "      <td>373</td>\n",
       "    </tr>\n",
       "    <tr>\n",
       "      <th>3</th>\n",
       "      <td>1315469</td>\n",
       "      <td>2.0</td>\n",
       "      <td>373</td>\n",
       "    </tr>\n",
       "    <tr>\n",
       "      <th>4</th>\n",
       "      <td>1022903</td>\n",
       "      <td>3.0</td>\n",
       "      <td>373</td>\n",
       "    </tr>\n",
       "  </tbody>\n",
       "</table>\n",
       "</div>"
      ],
      "text/plain": [
       "  CustomerID  Rating  Movie ID\n",
       "0       373:     NaN       373\n",
       "1     643460     4.0       373\n",
       "2     349399     5.0       373\n",
       "3    1315469     2.0       373\n",
       "4    1022903     3.0       373"
      ]
     },
     "execution_count": 10,
     "metadata": {},
     "output_type": "execute_result"
    }
   ],
   "source": [
    "#Checking the column names of the new dataframe.\n",
    "df_netflix.head()"
   ]
  },
  {
   "cell_type": "code",
   "execution_count": null,
   "metadata": {},
   "outputs": [
    {
     "name": "stdout",
     "output_type": "stream",
     "text": [
      "Data shape:  (80590486, 3)\n"
     ]
    }
   ],
   "source": [
    "# Checking the dimensions of the data\n",
    "print(\"Data shape: \", df_netflix.shape)"
   ]
  },
  {
   "cell_type": "code",
   "execution_count": null,
   "metadata": {},
   "outputs": [
    {
     "data": {
      "text/plain": [
       "11040    101780\n",
       "6859     101501\n",
       "2391     101189\n",
       "12870    101142\n",
       "4472     101119\n",
       "          ...  \n",
       "4806         14\n",
       "6256         11\n",
       "11344        11\n",
       "11148         6\n",
       "13755         4\n",
       "Name: Movie ID, Length: 17619, dtype: int64"
      ]
     },
     "execution_count": 12,
     "metadata": {},
     "output_type": "execute_result"
    }
   ],
   "source": [
    "df_netflix['Movie ID'].value_counts()"
   ]
  },
  {
   "cell_type": "code",
   "execution_count": null,
   "metadata": {},
   "outputs": [
    {
     "data": {
      "text/plain": [
       "305344     17509\n",
       "387418     17285\n",
       "2439493    16414\n",
       "1664010    15662\n",
       "2118461    14680\n",
       "           ...  \n",
       "14617:         1\n",
       "14171:         1\n",
       "4362:          1\n",
       "12500:         1\n",
       "7405:          1\n",
       "Name: CustomerID, Length: 496460, dtype: int64"
      ]
     },
     "execution_count": 13,
     "metadata": {},
     "output_type": "execute_result"
    }
   ],
   "source": [
    "df_netflix['CustomerID'].value_counts()"
   ]
  },
  {
   "cell_type": "code",
   "execution_count": null,
   "metadata": {},
   "outputs": [
    {
     "name": "stdout",
     "output_type": "stream",
     "text": [
      "     CustomerID  Rating        Date  Movie ID\n",
      "0       1510950     4.0  2005-01-19     12011\n",
      "1        851852     3.0  2005-07-14      8049\n",
      "2        246434     2.0  2002-12-06     12763\n",
      "3       1730716     2.0  2005-04-13      5237\n",
      "4       1806684     2.0  2003-09-17      5237\n",
      "...         ...     ...         ...       ...\n",
      "1995    1862374     5.0  2005-02-01     12785\n",
      "1996     898195     4.0  2003-08-10     12975\n",
      "1997       5727     4.0  2005-05-07      3893\n",
      "1998     984323     2.0  2004-01-23      8078\n",
      "1999    2390188     5.0  2004-12-12     15773\n",
      "\n",
      "[2000 rows x 4 columns]\n"
     ]
    }
   ],
   "source": [
    "#Due to the size of the original dataset and the high computational cost of running it, a sample will be taken. \n",
    "# Get a random sample of 2000 unique (CustomerID, MovieID) pairs\n",
    "customer_movie_pairs = df_netflix[['CustomerID', 'Movie ID']].drop_duplicates()\n",
    "sampled_pairs = customer_movie_pairs.sample(n=2000)\n",
    "\n",
    "# Get the rows in the original dataframe that match the sampled (CustomerID, MovieID) pairs\n",
    "df_sample = df.merge(sampled_pairs, on=['CustomerID', 'Movie ID'])\n",
    "\n",
    "# Display the resulting sampled dataframe\n",
    "print(df_sample)"
   ]
  },
  {
   "cell_type": "code",
   "execution_count": null,
   "metadata": {},
   "outputs": [
    {
     "data": {
      "text/html": [
       "<div>\n",
       "<style scoped>\n",
       "    .dataframe tbody tr th:only-of-type {\n",
       "        vertical-align: middle;\n",
       "    }\n",
       "\n",
       "    .dataframe tbody tr th {\n",
       "        vertical-align: top;\n",
       "    }\n",
       "\n",
       "    .dataframe thead th {\n",
       "        text-align: right;\n",
       "    }\n",
       "</style>\n",
       "<table border=\"1\" class=\"dataframe\">\n",
       "  <thead>\n",
       "    <tr style=\"text-align: right;\">\n",
       "      <th></th>\n",
       "      <th>CustomerID</th>\n",
       "      <th>Rating</th>\n",
       "      <th>Date</th>\n",
       "      <th>Movie ID</th>\n",
       "    </tr>\n",
       "  </thead>\n",
       "  <tbody>\n",
       "    <tr>\n",
       "      <th>0</th>\n",
       "      <td>1510950</td>\n",
       "      <td>4.0</td>\n",
       "      <td>2005-01-19</td>\n",
       "      <td>12011</td>\n",
       "    </tr>\n",
       "    <tr>\n",
       "      <th>1</th>\n",
       "      <td>851852</td>\n",
       "      <td>3.0</td>\n",
       "      <td>2005-07-14</td>\n",
       "      <td>8049</td>\n",
       "    </tr>\n",
       "    <tr>\n",
       "      <th>2</th>\n",
       "      <td>246434</td>\n",
       "      <td>2.0</td>\n",
       "      <td>2002-12-06</td>\n",
       "      <td>12763</td>\n",
       "    </tr>\n",
       "    <tr>\n",
       "      <th>3</th>\n",
       "      <td>1730716</td>\n",
       "      <td>2.0</td>\n",
       "      <td>2005-04-13</td>\n",
       "      <td>5237</td>\n",
       "    </tr>\n",
       "    <tr>\n",
       "      <th>4</th>\n",
       "      <td>1806684</td>\n",
       "      <td>2.0</td>\n",
       "      <td>2003-09-17</td>\n",
       "      <td>5237</td>\n",
       "    </tr>\n",
       "  </tbody>\n",
       "</table>\n",
       "</div>"
      ],
      "text/plain": [
       "  CustomerID  Rating        Date  Movie ID\n",
       "0    1510950     4.0  2005-01-19     12011\n",
       "1     851852     3.0  2005-07-14      8049\n",
       "2     246434     2.0  2002-12-06     12763\n",
       "3    1730716     2.0  2005-04-13      5237\n",
       "4    1806684     2.0  2003-09-17      5237"
      ]
     },
     "execution_count": 15,
     "metadata": {},
     "output_type": "execute_result"
    }
   ],
   "source": [
    "#Rechecking columns of the sampled dataset \n",
    "df_sample.head()"
   ]
  },
  {
   "cell_type": "markdown",
   "metadata": {},
   "source": [
    "### <b>3.2<span style='color:#F76241'>|</span> K-Nearest Neighbour Modelling for Netflix"
   ]
  },
  {
   "cell_type": "code",
   "execution_count": null,
   "metadata": {},
   "outputs": [],
   "source": [
    "# pivot ratings into joke features, in which each row represents a user and each column represents a joke. \n",
    "df_movie_matrix = df_sample.pivot(index='CustomerID', columns='Movie ID', values='Rating').fillna(0)"
   ]
  },
  {
   "cell_type": "code",
   "execution_count": null,
   "metadata": {},
   "outputs": [],
   "source": [
    "#converting dataframe of movie pivot matrix to scipy sparse matrix\n",
    "ratingmatrix_netflix = csr_matrix(df_movie_matrix.values)"
   ]
  },
  {
   "cell_type": "code",
   "execution_count": null,
   "metadata": {},
   "outputs": [],
   "source": [
    "#Splitting the sparse matrix into training, validation, test sets. \n",
    "#This will allow for the KNN model to be train, validated, and tested with different subsets of the data. \n",
    "train_matrix_netflix, test_matrix_netflix = train_test_split(ratingmatrix_netflix, test_size=0.2)\n",
    "test_matrix_netflix, validation_matrix_netflix = train_test_split(test_matrix_netflix, test_size=0.5)"
   ]
  },
  {
   "cell_type": "code",
   "execution_count": null,
   "metadata": {},
   "outputs": [
    {
     "data": {
      "text/html": [
       "<style>#sk-container-id-1 {color: black;background-color: white;}#sk-container-id-1 pre{padding: 0;}#sk-container-id-1 div.sk-toggleable {background-color: white;}#sk-container-id-1 label.sk-toggleable__label {cursor: pointer;display: block;width: 100%;margin-bottom: 0;padding: 0.3em;box-sizing: border-box;text-align: center;}#sk-container-id-1 label.sk-toggleable__label-arrow:before {content: \"▸\";float: left;margin-right: 0.25em;color: #696969;}#sk-container-id-1 label.sk-toggleable__label-arrow:hover:before {color: black;}#sk-container-id-1 div.sk-estimator:hover label.sk-toggleable__label-arrow:before {color: black;}#sk-container-id-1 div.sk-toggleable__content {max-height: 0;max-width: 0;overflow: hidden;text-align: left;background-color: #f0f8ff;}#sk-container-id-1 div.sk-toggleable__content pre {margin: 0.2em;color: black;border-radius: 0.25em;background-color: #f0f8ff;}#sk-container-id-1 input.sk-toggleable__control:checked~div.sk-toggleable__content {max-height: 200px;max-width: 100%;overflow: auto;}#sk-container-id-1 input.sk-toggleable__control:checked~label.sk-toggleable__label-arrow:before {content: \"▾\";}#sk-container-id-1 div.sk-estimator input.sk-toggleable__control:checked~label.sk-toggleable__label {background-color: #d4ebff;}#sk-container-id-1 div.sk-label input.sk-toggleable__control:checked~label.sk-toggleable__label {background-color: #d4ebff;}#sk-container-id-1 input.sk-hidden--visually {border: 0;clip: rect(1px 1px 1px 1px);clip: rect(1px, 1px, 1px, 1px);height: 1px;margin: -1px;overflow: hidden;padding: 0;position: absolute;width: 1px;}#sk-container-id-1 div.sk-estimator {font-family: monospace;background-color: #f0f8ff;border: 1px dotted black;border-radius: 0.25em;box-sizing: border-box;margin-bottom: 0.5em;}#sk-container-id-1 div.sk-estimator:hover {background-color: #d4ebff;}#sk-container-id-1 div.sk-parallel-item::after {content: \"\";width: 100%;border-bottom: 1px solid gray;flex-grow: 1;}#sk-container-id-1 div.sk-label:hover label.sk-toggleable__label {background-color: #d4ebff;}#sk-container-id-1 div.sk-serial::before {content: \"\";position: absolute;border-left: 1px solid gray;box-sizing: border-box;top: 0;bottom: 0;left: 50%;z-index: 0;}#sk-container-id-1 div.sk-serial {display: flex;flex-direction: column;align-items: center;background-color: white;padding-right: 0.2em;padding-left: 0.2em;position: relative;}#sk-container-id-1 div.sk-item {position: relative;z-index: 1;}#sk-container-id-1 div.sk-parallel {display: flex;align-items: stretch;justify-content: center;background-color: white;position: relative;}#sk-container-id-1 div.sk-item::before, #sk-container-id-1 div.sk-parallel-item::before {content: \"\";position: absolute;border-left: 1px solid gray;box-sizing: border-box;top: 0;bottom: 0;left: 50%;z-index: -1;}#sk-container-id-1 div.sk-parallel-item {display: flex;flex-direction: column;z-index: 1;position: relative;background-color: white;}#sk-container-id-1 div.sk-parallel-item:first-child::after {align-self: flex-end;width: 50%;}#sk-container-id-1 div.sk-parallel-item:last-child::after {align-self: flex-start;width: 50%;}#sk-container-id-1 div.sk-parallel-item:only-child::after {width: 0;}#sk-container-id-1 div.sk-dashed-wrapped {border: 1px dashed gray;margin: 0 0.4em 0.5em 0.4em;box-sizing: border-box;padding-bottom: 0.4em;background-color: white;}#sk-container-id-1 div.sk-label label {font-family: monospace;font-weight: bold;display: inline-block;line-height: 1.2em;}#sk-container-id-1 div.sk-label-container {text-align: center;}#sk-container-id-1 div.sk-container {/* jupyter's `normalize.less` sets `[hidden] { display: none; }` but bootstrap.min.css set `[hidden] { display: none !important; }` so we also need the `!important` here to be able to override the default hidden behavior on the sphinx rendered scikit-learn.org. See: https://github.com/scikit-learn/scikit-learn/issues/21755 */display: inline-block !important;position: relative;}#sk-container-id-1 div.sk-text-repr-fallback {display: none;}</style><div id=\"sk-container-id-1\" class=\"sk-top-container\"><div class=\"sk-text-repr-fallback\"><pre>NearestNeighbors(algorithm=&#x27;brute&#x27;, metric=&#x27;cosine&#x27;)</pre><b>In a Jupyter environment, please rerun this cell to show the HTML representation or trust the notebook. <br />On GitHub, the HTML representation is unable to render, please try loading this page with nbviewer.org.</b></div><div class=\"sk-container\" hidden><div class=\"sk-item\"><div class=\"sk-estimator sk-toggleable\"><input class=\"sk-toggleable__control sk-hidden--visually\" id=\"sk-estimator-id-1\" type=\"checkbox\" checked><label for=\"sk-estimator-id-1\" class=\"sk-toggleable__label sk-toggleable__label-arrow\">NearestNeighbors</label><div class=\"sk-toggleable__content\"><pre>NearestNeighbors(algorithm=&#x27;brute&#x27;, metric=&#x27;cosine&#x27;)</pre></div></div></div></div></div>"
      ],
      "text/plain": [
       "NearestNeighbors(algorithm='brute', metric='cosine')"
      ]
     },
     "execution_count": 19,
     "metadata": {},
     "output_type": "execute_result"
    }
   ],
   "source": [
    "#Defining the KNN model\n",
    "knn_model_netflix = NearestNeighbors(metric = 'cosine', algorithm = 'brute')\n",
    "knn_model_netflix.fit(ratingmatrix_netflix)"
   ]
  },
  {
   "cell_type": "markdown",
   "metadata": {},
   "source": [
    "### <b>3.2.1<span style='color:#F76241'>|</span> Hyperparameter Tuning <br>"
   ]
  },
  {
   "cell_type": "code",
   "execution_count": null,
   "metadata": {},
   "outputs": [],
   "source": [
    "#Defining a function to find the optimal hyperparameters for the model\n",
    "def build_knn (data=validation_matrix_netflix, nr_recommendations=5, metric='manhattan', n_neighbors=15):\n",
    "    knn_model_netflix = NearestNeighbors(metric=metric, algorithm='brute', n_neighbors=n_neighbors, n_jobs=-1)\n",
    "    knn_model_netflix.fit(train_matrix_netflix)\n",
    "\n",
    "#predicted ratings\n",
    "    test_predicted_ratings = np.zeros_like(data.toarray())\n",
    "    for user_id in range(data.shape[0]):\n",
    "        distances, indices = knn_model_netflix.kneighbors(data[user_id], n_neighbors=nr_recommendations)\n",
    "        user_ratings = train_matrix_netflix[indices.flatten(), :].toarray()\n",
    "        weights = 1 / (distances.flatten() + 1e-6)\n",
    "        test_predicted_ratings[user_id] = np.sum(user_ratings * weights.reshape(-1, 1), axis=0) / np.sum(weights)\n",
    "\n",
    "#Calculating the RMSE for the hyperparameters to be able to determine which hyperparameters are the best. \n",
    "    test_actual_ratings = data.toarray()[test_predicted_ratings > 0]\n",
    "    test_predicted_ratings = np.array(test_predicted_ratings)[test_predicted_ratings > 0]\n",
    "    rmse = np.sqrt(mean_squared_error(test_actual_ratings, test_predicted_ratings))\n",
    "    return rmse"
   ]
  },
  {
   "cell_type": "code",
   "execution_count": null,
   "metadata": {},
   "outputs": [],
   "source": [
    "#Computing the hyperparameters for the validation dataset. \n",
    "# By looping through all possible combinations of thehyperparameters, the hyperparameter space is explored and the optimal combination\n",
    "# that results in the lowest RMSE can be identified. This approach ensures that the system is able to be generalized to new data. \n",
    "# This is not a computational inexpensive method, however it is very thorough.\n",
    "rmse = build_knn()\n",
    "nr_recommendations = [5,7,9]\n",
    "n_neigbours = [10, 20, 50]\n",
    "metric = ['minkowski','euclidean','manhattan']\n",
    "parameters = []\n",
    "for number in nr_recommendations:\n",
    "    for par in metric: \n",
    "        for tal in n_neigbours:\n",
    "            parameters.append([build_knn(data = validation_matrix_netflix, metric=par, nr_recommendations=number), par, number, tal])"
   ]
  },
  {
   "cell_type": "code",
   "execution_count": null,
   "metadata": {},
   "outputs": [
    {
     "name": "stdout",
     "output_type": "stream",
     "text": [
      "[0.40372243829381027, 'manhattan', 9, 10]\n"
     ]
    }
   ],
   "source": [
    "# Printing the best parameters, based on the loop above. \n",
    "best_parameters = sorted(parameters, key= lambda x: x[0])[0]\n",
    "print(best_parameters)"
   ]
  },
  {
   "cell_type": "markdown",
   "metadata": {},
   "source": [
    "<span style='color:#F76241'>|</span> The best parameters for the model are metric: manhattan, n_neighbors: 9, nr.recommendations: 10. This is due to the lowest RMSE of 0.40"
   ]
  },
  {
   "cell_type": "code",
   "execution_count": null,
   "metadata": {},
   "outputs": [
    {
     "data": {
      "text/html": [
       "<style>#sk-container-id-3 {color: black;background-color: white;}#sk-container-id-3 pre{padding: 0;}#sk-container-id-3 div.sk-toggleable {background-color: white;}#sk-container-id-3 label.sk-toggleable__label {cursor: pointer;display: block;width: 100%;margin-bottom: 0;padding: 0.3em;box-sizing: border-box;text-align: center;}#sk-container-id-3 label.sk-toggleable__label-arrow:before {content: \"▸\";float: left;margin-right: 0.25em;color: #696969;}#sk-container-id-3 label.sk-toggleable__label-arrow:hover:before {color: black;}#sk-container-id-3 div.sk-estimator:hover label.sk-toggleable__label-arrow:before {color: black;}#sk-container-id-3 div.sk-toggleable__content {max-height: 0;max-width: 0;overflow: hidden;text-align: left;background-color: #f0f8ff;}#sk-container-id-3 div.sk-toggleable__content pre {margin: 0.2em;color: black;border-radius: 0.25em;background-color: #f0f8ff;}#sk-container-id-3 input.sk-toggleable__control:checked~div.sk-toggleable__content {max-height: 200px;max-width: 100%;overflow: auto;}#sk-container-id-3 input.sk-toggleable__control:checked~label.sk-toggleable__label-arrow:before {content: \"▾\";}#sk-container-id-3 div.sk-estimator input.sk-toggleable__control:checked~label.sk-toggleable__label {background-color: #d4ebff;}#sk-container-id-3 div.sk-label input.sk-toggleable__control:checked~label.sk-toggleable__label {background-color: #d4ebff;}#sk-container-id-3 input.sk-hidden--visually {border: 0;clip: rect(1px 1px 1px 1px);clip: rect(1px, 1px, 1px, 1px);height: 1px;margin: -1px;overflow: hidden;padding: 0;position: absolute;width: 1px;}#sk-container-id-3 div.sk-estimator {font-family: monospace;background-color: #f0f8ff;border: 1px dotted black;border-radius: 0.25em;box-sizing: border-box;margin-bottom: 0.5em;}#sk-container-id-3 div.sk-estimator:hover {background-color: #d4ebff;}#sk-container-id-3 div.sk-parallel-item::after {content: \"\";width: 100%;border-bottom: 1px solid gray;flex-grow: 1;}#sk-container-id-3 div.sk-label:hover label.sk-toggleable__label {background-color: #d4ebff;}#sk-container-id-3 div.sk-serial::before {content: \"\";position: absolute;border-left: 1px solid gray;box-sizing: border-box;top: 0;bottom: 0;left: 50%;z-index: 0;}#sk-container-id-3 div.sk-serial {display: flex;flex-direction: column;align-items: center;background-color: white;padding-right: 0.2em;padding-left: 0.2em;position: relative;}#sk-container-id-3 div.sk-item {position: relative;z-index: 1;}#sk-container-id-3 div.sk-parallel {display: flex;align-items: stretch;justify-content: center;background-color: white;position: relative;}#sk-container-id-3 div.sk-item::before, #sk-container-id-3 div.sk-parallel-item::before {content: \"\";position: absolute;border-left: 1px solid gray;box-sizing: border-box;top: 0;bottom: 0;left: 50%;z-index: -1;}#sk-container-id-3 div.sk-parallel-item {display: flex;flex-direction: column;z-index: 1;position: relative;background-color: white;}#sk-container-id-3 div.sk-parallel-item:first-child::after {align-self: flex-end;width: 50%;}#sk-container-id-3 div.sk-parallel-item:last-child::after {align-self: flex-start;width: 50%;}#sk-container-id-3 div.sk-parallel-item:only-child::after {width: 0;}#sk-container-id-3 div.sk-dashed-wrapped {border: 1px dashed gray;margin: 0 0.4em 0.5em 0.4em;box-sizing: border-box;padding-bottom: 0.4em;background-color: white;}#sk-container-id-3 div.sk-label label {font-family: monospace;font-weight: bold;display: inline-block;line-height: 1.2em;}#sk-container-id-3 div.sk-label-container {text-align: center;}#sk-container-id-3 div.sk-container {/* jupyter's `normalize.less` sets `[hidden] { display: none; }` but bootstrap.min.css set `[hidden] { display: none !important; }` so we also need the `!important` here to be able to override the default hidden behavior on the sphinx rendered scikit-learn.org. See: https://github.com/scikit-learn/scikit-learn/issues/21755 */display: inline-block !important;position: relative;}#sk-container-id-3 div.sk-text-repr-fallback {display: none;}</style><div id=\"sk-container-id-3\" class=\"sk-top-container\"><div class=\"sk-text-repr-fallback\"><pre>NearestNeighbors(algorithm=&#x27;brute&#x27;, metric=&#x27;manhattan&#x27;, n_neighbors=9)</pre><b>In a Jupyter environment, please rerun this cell to show the HTML representation or trust the notebook. <br />On GitHub, the HTML representation is unable to render, please try loading this page with nbviewer.org.</b></div><div class=\"sk-container\" hidden><div class=\"sk-item\"><div class=\"sk-estimator sk-toggleable\"><input class=\"sk-toggleable__control sk-hidden--visually\" id=\"sk-estimator-id-3\" type=\"checkbox\" checked><label for=\"sk-estimator-id-3\" class=\"sk-toggleable__label sk-toggleable__label-arrow\">NearestNeighbors</label><div class=\"sk-toggleable__content\"><pre>NearestNeighbors(algorithm=&#x27;brute&#x27;, metric=&#x27;manhattan&#x27;, n_neighbors=9)</pre></div></div></div></div></div>"
      ],
      "text/plain": [
       "NearestNeighbors(algorithm='brute', metric='manhattan', n_neighbors=9)"
      ]
     },
     "execution_count": 25,
     "metadata": {},
     "output_type": "execute_result"
    }
   ],
   "source": [
    "#The best parameters inputed to the model and fitted to the test subset.\n",
    "knn_model = NearestNeighbors(metric = 'manhattan', algorithm = 'brute', n_neighbors=9)\n",
    "knn_model.fit(test_matrix_netflix)"
   ]
  },
  {
   "cell_type": "markdown",
   "metadata": {},
   "source": [
    "### 3.3<span style='color:#F76241'>|</span> Testing the KNN Recommender System with Optimal Hyperparameters <br>"
   ]
  },
  {
   "cell_type": "code",
   "execution_count": null,
   "metadata": {},
   "outputs": [
    {
     "name": "stdout",
     "output_type": "stream",
     "text": [
      "Similarities for user 50259:\n",
      "\n",
      "1: 579549, with distance of 1.0:\n",
      "2: 1217471, with distance of 5.0:\n",
      "3: 1042795, with distance of 5.0:\n",
      "4: 1163698, with distance of 5.0:\n",
      "5: 1099977, with distance of 5.0:\n",
      "6: 1188639, with distance of 5.0:\n",
      "7: 1217641, with distance of 5.0:\n",
      "8: 1081239, with distance of 5.0:\n"
     ]
    }
   ],
   "source": [
    "#code adapted from Makwana(2020) \n",
    "# Selecting random user\n",
    "query_index = np.random.choice(df_movie_matrix.shape[0])\n",
    "\n",
    "#Finding movies that target user has not yet rated\n",
    "unrated_movie_indices = np.where(df_movie_matrix.iloc[query_index].isnull())[0]\n",
    "urated_movie_indices = np.where(~np.isnan(df_movie_matrix.iloc[query_index]))[0]\n",
    "\n",
    "#Finding movies that target user has rated\n",
    "df_movie_matrix_rated = df_movie_matrix.iloc[:, rated_movie_indices].dropna()\n",
    "df_movie_matrix_rated = df_movie_matrix.loc[(df_movie_matrix_rated[unrated_movie_indices] == 0).all(axis=1)]\n",
    "\n",
    "#Defining and fitting model with the optimal hyperparameters\n",
    "knn_model = NearestNeighbors(metric='manhattan', algorithm='brute', n_neighbors=9)\n",
    "knn_model.fit(df_movie_matrix_rated)\n",
    "\n",
    "#Calculating indices of the k-nearest neighbours for random user in matrix\n",
    "distances, indices = knn_model.kneighbors(df_movie_matrix.iloc[query_index, rated_movie_indices].values.reshape(1, -1), n_neighbors=9)\n",
    "\n",
    "#Printing the k-nearest neighbours\n",
    "num_recommendations = 10\n",
    "counter = 0\n",
    "for i in range(0, len(distances.flatten())):\n",
    "    if i == 0:\n",
    "        print('Similarities for user {0}:\\n'.format(df_movie_matrix.index[query_index]))\n",
    "    elif counter >= num_recommendations:\n",
    "        break\n",
    "    else:\n",
    "        unrated_movie_indices_neighbor = np.where(df_movie_matrix_rated.iloc[indices.flatten()[i]].isnull())[0]\n",
    "        if len(unrated_movie_indices_neighbor) == len(unrated_movie_indices):\n",
    "            print('{0}: {1}, with distance of {2}:'.format(counter+1, df_movie_matrix_rated.index[indices.flatten()[i]], distances.flatten()[i]))\n",
    "            counter += 1\n"
   ]
  },
  {
   "cell_type": "markdown",
   "metadata": {},
   "source": [
    "### <b>4<span style='color:#F76241'>|</span> Singular Value Decomposition Modelling for Netflix <br>"
   ]
  },
  {
   "cell_type": "code",
   "execution_count": null,
   "metadata": {},
   "outputs": [],
   "source": [
    "#Define function for SVD. (r=number of latent factors to use in decomposition)\n",
    "def build_svd(data,r=5):\n",
    "    #Computing SVD components on the training rating matrix to reduce dimensionality.\n",
    "    u, s, Vt = svds(masked_dataset_csr.toarray(), k=r)\n",
    "\n",
    "    #Constructing diagonal matrix from the singular values in sigma. \n",
    "    sigma_diag_matrix = np.diag(s)\n",
    "\n",
    "    #Computing the predicted ratings for all users and jokes. \n",
    "    X_pred_netflix = np.dot(np.dot(u, sigma_diag_matrix), Vt)\n",
    "    return X_pred_netflix"
   ]
  },
  {
   "cell_type": "code",
   "execution_count": null,
   "metadata": {},
   "outputs": [],
   "source": [
    "#Computing hyperparameter tuning for SVD on the Netflix sample dataset\n",
    "r_list = [2,5,10] \n",
    "parameters = []\n",
    "for r in r_list:\n",
    "    #Creating dataset and sample\n",
    "    masked_dataset, actual_sampledata = train_test_split(df_sample, test_size=0.15)\n",
    "\n",
    "    masked_dataset_csr = csr_matrix(masked_dataset.pivot(index='CustomerID', columns='Movie ID', values='Rating').fillna(0).values)\n",
    "    actual_sampledata_csr = csr_matrix(actual_sampledata.pivot(index='CustomerID', columns='Movie ID', values='Rating').fillna(0).values)\n",
    "\n",
    "    prediction = build_svd(masked_dataset_csr.toarray(),r=r)\n",
    "\n",
    "    prediction = prediction[actual_sampledata_csr.toarray().nonzero()].flatten()\n",
    "    actual_values = actual_sampledata_csr.toarray()[actual_sampledata_csr.toarray().nonzero()].flatten() \n",
    "    \n",
    "    rmse = np.sqrt(mean_squared_error(prediction, actual_values))\n",
    "    parameters.append([r, rmse])"
   ]
  },
  {
   "cell_type": "code",
   "execution_count": null,
   "metadata": {},
   "outputs": [
    {
     "name": "stdout",
     "output_type": "stream",
     "text": [
      "[2, 3.6873658167676644]\n"
     ]
    }
   ],
   "source": [
    "# Printing the best parameters based on the hyperparameter tuning above. \n",
    "best_parameters = sorted(parameters, key= lambda x: x[0])[0]\n",
    "print(best_parameters)"
   ]
  },
  {
   "cell_type": "markdown",
   "metadata": {},
   "source": [
    "<span style='color:#F76241'>|</span> As can be seen the optimal number of iterations for the SVD model is 2, with the lowest RMSE of 3.59. This is a relatively high RMSE as it suggests that the recommender system is off by approximately 4 rating scores. <br>"
   ]
  },
  {
   "cell_type": "code",
   "execution_count": null,
   "metadata": {},
   "outputs": [
    {
     "name": "stdout",
     "output_type": "stream",
     "text": [
      "Top Recommended Movies for Random User: 1055    2.529198e-17\n",
      "627     6.876380e-32\n",
      "74      1.844927e-33\n",
      "1109    1.609854e-33\n",
      "613     1.528334e-33\n",
      "Name: 529, dtype: float64\n"
     ]
    }
   ],
   "source": [
    "#Splitting the dataset into a training and test subset. \n",
    "masked_dataset, actual_sampledata = train_test_split(df_sample, test_size=0.15)\n",
    "\n",
    "masked_dataset_csr = csr_matrix(masked_dataset.pivot(index='CustomerID', columns='Movie ID', values='Rating').fillna(0).values)\n",
    "actual_sampledata_csr = csr_matrix(actual_sampledata.pivot(index='CustomerID', columns='Movie ID', values='Rating').fillna(0).values)\n",
    "\n",
    "#Getting predictions with best parameters\n",
    "prediction = build_svd(masked_dataset_csr.toarray(), r=2)\n",
    "prediction = pd.DataFrame(prediction)\n",
    "\n",
    "#Creating selected user rating list \n",
    "user_prediction = prediction.loc[query_index].sort_values(ascending=False) \n",
    "print(\"Top Recommended Movies for Random User:\", user_prediction.head(5))"
   ]
  },
  {
   "cell_type": "markdown",
   "metadata": {},
   "source": [
    "### 5<span style='color:#F76241'>|</span> Conclusion <br>\n",
    "\n",
    "The aim of this notebook has been to invesitgate the application of collaborative filtering to build recommender systems. Two different methods have been constructed, a K-Nearest Neighbor and a Singular Value Decomposition. Both recommender systems have been hyperparameter tuned to identify the best parameters for the systems. Once, the best parameters were identified recommendations for a random user were calculated. Lastly, the models were evaluated using the RMSE as this evaluation metric provided the most accesible interprebaility of performance. Furthermore, both the KNN and SVD recommender systems were applied to a different dataset to test the generalisability. The KNN recommender system scored best in performance based on the RMSE (0.40). In both the datasets the KNN recommender system has been able to recommend more accurately, with the results interepreted based on the RMSE.  Therefore, based on the differences in RMSE across both the Jester dataset and the Netflix dataset it is recommended that Jester apply a K-Nearest Neighbor approach for building a recommendation system.\n",
    "\n",
    "Further research and improvements are needed to both recommender system to increase the accuracy. These improvements include enhancing the datasets to include more features, as well as exploring more parameters for the hyperparameter tuning. Furthermore, the construction of this notebook has been subjected to several limitations but mainly time. The timeframe has affected the ability to include more evaluation metrics that could provide more transparency of the calculations of the recommender systems.  \n",
    "\n",
    "### <b>4<span style='color:#F76241'>|</span> References <br>\n",
    "Lü, l., Medo, M., Yeung, C.H., Zhang, Y., Zhang, Z., & Zhou, T. (2012). Recommender Systems. Physics Reports (519,1). pg.1-49. https://doi.org/10.1016/j.physrep.2012.02.006 <br>\n",
    "\n",
    "Kaur, H. & Bathla, H. (2019). Techniques of Recommender Systems. International Journal of Innovative Technology and Exploring Engineering (8, 9S). 10.35940/ijitee.I1059.0789S19 <br>\n",
    "\n",
    "Makwana, A. (2020, December 26). Understanding Recommendation system and KNN with project - Book Recommendation System. Medium. https://aman-makwana101932.medium.com/understanding-recommendation-system-and-knn-with-project-book-recommendation-system-c648e47ff4f6\n",
    "\n",
    "Nuñéz-Valdéz, E.R., Lovelle, J.M.C., Martínez, O.S., García-Díaz, V., De Pablos, P.O., & Marín, C.E.M. (2012). Implicit Feedback Techniques on Recommender Systems Applied to Electronic Books. Computers in Human Behaviour (28, 4). https://doi.org/10.1016/j.chb.2012.02.001<br>"
   ]
  }
 ],
 "metadata": {
  "kernelspec": {
   "display_name": "Python 3.10.6 64-bit",
   "language": "python",
   "name": "python3"
  },
  "language_info": {
   "codemirror_mode": {
    "name": "ipython",
    "version": 3
   },
   "file_extension": ".py",
   "mimetype": "text/x-python",
   "name": "python",
   "nbconvert_exporter": "python",
   "pygments_lexer": "ipython3",
   "version": "3.10.6"
  },
  "orig_nbformat": 4,
  "vscode": {
   "interpreter": {
    "hash": "aee8b7b246df8f9039afb4144a1f6fd8d2ca17a180786b69acc140d282b71a49"
   }
  }
 },
 "nbformat": 4,
 "nbformat_minor": 2
}
